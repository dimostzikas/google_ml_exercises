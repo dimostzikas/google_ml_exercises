{
 "cells": [
  {
   "metadata": {},
   "cell_type": "markdown",
   "source": [
    "# This is a sample Jupyter Notebook\n",
    "\n",
    "Below is an example of a code cell. \n",
    "Put your cursor into the cell and press Shift+Enter to execute it and select the next one, or click !here goes the icon of the corresponding button in the gutter! button.\n",
    "To debug a cell, press Alt+Shift+Enter, or click !here goes the icon of the corresponding button in the gutter! button.\n",
    "\n",
    "Press Double Shift to search everywhere for classes, files, tool windows, actions, and settings.\n",
    "\n",
    "To learn more about Jupyter Notebooks in PyCharm, see [help](https://www.jetbrains.com/help/pycharm/jupyter-notebook-support.html).\n",
    "For an overview of PyCharm, go to Help -> Learn IDE features or refer to [our documentation](https://www.jetbrains.com/help/pycharm/getting-started.html)."
   ],
   "id": "8a77807f92f26ee"
  },
  {
   "metadata": {
    "ExecuteTime": {
     "end_time": "2025-06-16T10:39:20.136584Z",
     "start_time": "2025-06-16T10:39:19.066383Z"
    }
   },
   "cell_type": "code",
   "source": [
    "#@title Install required libraries\n",
    "\n",
    "!pip install keras~=3.8.0 \\\n",
    "  matplotlib~=3.10.0 \\\n",
    "  numpy~=2.0.0 \\\n",
    "  pandas~=2.2.0 \\\n",
    "  tensorflow~=2.18.0\n",
    "\n",
    "print('\\n\\nAll requirements successfully installed.')"
   ],
   "id": "fbc121e30a2defb3",
   "outputs": [
    {
     "name": "stdout",
     "output_type": "stream",
     "text": [
      "Requirement already satisfied: keras~=3.8.0 in c:\\users\\user\\pycharmprojects\\google_ml_exercises\\.venv\\lib\\site-packages (3.8.0)\n",
      "Requirement already satisfied: matplotlib~=3.10.0 in c:\\users\\user\\pycharmprojects\\google_ml_exercises\\.venv\\lib\\site-packages (3.10.3)\n",
      "Requirement already satisfied: numpy~=2.0.0 in c:\\users\\user\\pycharmprojects\\google_ml_exercises\\.venv\\lib\\site-packages (2.0.2)\n",
      "Requirement already satisfied: pandas~=2.2.0 in c:\\users\\user\\pycharmprojects\\google_ml_exercises\\.venv\\lib\\site-packages (2.2.3)\n",
      "Requirement already satisfied: tensorflow~=2.18.0 in c:\\users\\user\\pycharmprojects\\google_ml_exercises\\.venv\\lib\\site-packages (2.18.1)\n",
      "Requirement already satisfied: absl-py in c:\\users\\user\\pycharmprojects\\google_ml_exercises\\.venv\\lib\\site-packages (from keras~=3.8.0) (2.3.0)\n",
      "Requirement already satisfied: rich in c:\\users\\user\\pycharmprojects\\google_ml_exercises\\.venv\\lib\\site-packages (from keras~=3.8.0) (14.0.0)\n",
      "Requirement already satisfied: namex in c:\\users\\user\\pycharmprojects\\google_ml_exercises\\.venv\\lib\\site-packages (from keras~=3.8.0) (0.1.0)\n",
      "Requirement already satisfied: h5py in c:\\users\\user\\pycharmprojects\\google_ml_exercises\\.venv\\lib\\site-packages (from keras~=3.8.0) (3.14.0)\n",
      "Requirement already satisfied: optree in c:\\users\\user\\pycharmprojects\\google_ml_exercises\\.venv\\lib\\site-packages (from keras~=3.8.0) (0.16.0)\n",
      "Requirement already satisfied: ml-dtypes in c:\\users\\user\\pycharmprojects\\google_ml_exercises\\.venv\\lib\\site-packages (from keras~=3.8.0) (0.5.1)\n",
      "Requirement already satisfied: packaging in c:\\users\\user\\pycharmprojects\\google_ml_exercises\\.venv\\lib\\site-packages (from keras~=3.8.0) (25.0)\n",
      "Requirement already satisfied: contourpy>=1.0.1 in c:\\users\\user\\pycharmprojects\\google_ml_exercises\\.venv\\lib\\site-packages (from matplotlib~=3.10.0) (1.3.2)\n",
      "Requirement already satisfied: cycler>=0.10 in c:\\users\\user\\pycharmprojects\\google_ml_exercises\\.venv\\lib\\site-packages (from matplotlib~=3.10.0) (0.12.1)\n",
      "Requirement already satisfied: fonttools>=4.22.0 in c:\\users\\user\\pycharmprojects\\google_ml_exercises\\.venv\\lib\\site-packages (from matplotlib~=3.10.0) (4.58.4)\n",
      "Requirement already satisfied: kiwisolver>=1.3.1 in c:\\users\\user\\pycharmprojects\\google_ml_exercises\\.venv\\lib\\site-packages (from matplotlib~=3.10.0) (1.4.8)\n",
      "Requirement already satisfied: pillow>=8 in c:\\users\\user\\pycharmprojects\\google_ml_exercises\\.venv\\lib\\site-packages (from matplotlib~=3.10.0) (11.2.1)\n",
      "Requirement already satisfied: pyparsing>=2.3.1 in c:\\users\\user\\pycharmprojects\\google_ml_exercises\\.venv\\lib\\site-packages (from matplotlib~=3.10.0) (3.2.3)\n",
      "Requirement already satisfied: python-dateutil>=2.7 in c:\\users\\user\\pycharmprojects\\google_ml_exercises\\.venv\\lib\\site-packages (from matplotlib~=3.10.0) (2.9.0.post0)\n",
      "Requirement already satisfied: pytz>=2020.1 in c:\\users\\user\\pycharmprojects\\google_ml_exercises\\.venv\\lib\\site-packages (from pandas~=2.2.0) (2025.2)\n",
      "Requirement already satisfied: tzdata>=2022.7 in c:\\users\\user\\pycharmprojects\\google_ml_exercises\\.venv\\lib\\site-packages (from pandas~=2.2.0) (2025.2)\n",
      "Requirement already satisfied: astunparse>=1.6.0 in c:\\users\\user\\pycharmprojects\\google_ml_exercises\\.venv\\lib\\site-packages (from tensorflow~=2.18.0) (1.6.3)\n",
      "Requirement already satisfied: flatbuffers>=24.3.25 in c:\\users\\user\\pycharmprojects\\google_ml_exercises\\.venv\\lib\\site-packages (from tensorflow~=2.18.0) (25.2.10)\n",
      "Requirement already satisfied: gast!=0.5.0,!=0.5.1,!=0.5.2,>=0.2.1 in c:\\users\\user\\pycharmprojects\\google_ml_exercises\\.venv\\lib\\site-packages (from tensorflow~=2.18.0) (0.6.0)\n",
      "Requirement already satisfied: google-pasta>=0.1.1 in c:\\users\\user\\pycharmprojects\\google_ml_exercises\\.venv\\lib\\site-packages (from tensorflow~=2.18.0) (0.2.0)\n",
      "Requirement already satisfied: libclang>=13.0.0 in c:\\users\\user\\pycharmprojects\\google_ml_exercises\\.venv\\lib\\site-packages (from tensorflow~=2.18.0) (18.1.1)\n",
      "Requirement already satisfied: opt-einsum>=2.3.2 in c:\\users\\user\\pycharmprojects\\google_ml_exercises\\.venv\\lib\\site-packages (from tensorflow~=2.18.0) (3.4.0)\n",
      "Requirement already satisfied: protobuf!=4.21.0,!=4.21.1,!=4.21.2,!=4.21.3,!=4.21.4,!=4.21.5,<6.0.0dev,>=3.20.3 in c:\\users\\user\\pycharmprojects\\google_ml_exercises\\.venv\\lib\\site-packages (from tensorflow~=2.18.0) (5.29.5)\n",
      "Requirement already satisfied: requests<3,>=2.21.0 in c:\\users\\user\\pycharmprojects\\google_ml_exercises\\.venv\\lib\\site-packages (from tensorflow~=2.18.0) (2.32.4)\n",
      "Requirement already satisfied: setuptools in c:\\users\\user\\pycharmprojects\\google_ml_exercises\\.venv\\lib\\site-packages (from tensorflow~=2.18.0) (68.2.0)\n",
      "Requirement already satisfied: six>=1.12.0 in c:\\users\\user\\pycharmprojects\\google_ml_exercises\\.venv\\lib\\site-packages (from tensorflow~=2.18.0) (1.17.0)\n",
      "Requirement already satisfied: termcolor>=1.1.0 in c:\\users\\user\\pycharmprojects\\google_ml_exercises\\.venv\\lib\\site-packages (from tensorflow~=2.18.0) (3.1.0)\n",
      "Requirement already satisfied: typing-extensions>=3.6.6 in c:\\users\\user\\pycharmprojects\\google_ml_exercises\\.venv\\lib\\site-packages (from tensorflow~=2.18.0) (4.14.0)\n",
      "Requirement already satisfied: wrapt>=1.11.0 in c:\\users\\user\\pycharmprojects\\google_ml_exercises\\.venv\\lib\\site-packages (from tensorflow~=2.18.0) (1.17.2)\n",
      "Requirement already satisfied: grpcio<2.0,>=1.24.3 in c:\\users\\user\\pycharmprojects\\google_ml_exercises\\.venv\\lib\\site-packages (from tensorflow~=2.18.0) (1.73.0)\n",
      "Requirement already satisfied: tensorboard<2.19,>=2.18 in c:\\users\\user\\pycharmprojects\\google_ml_exercises\\.venv\\lib\\site-packages (from tensorflow~=2.18.0) (2.18.0)\n",
      "Requirement already satisfied: tensorflow-io-gcs-filesystem>=0.23.1 in c:\\users\\user\\pycharmprojects\\google_ml_exercises\\.venv\\lib\\site-packages (from tensorflow~=2.18.0) (0.31.0)\n",
      "Requirement already satisfied: wheel<1.0,>=0.23.0 in c:\\users\\user\\pycharmprojects\\google_ml_exercises\\.venv\\lib\\site-packages (from astunparse>=1.6.0->tensorflow~=2.18.0) (0.41.2)\n",
      "Requirement already satisfied: charset_normalizer<4,>=2 in c:\\users\\user\\pycharmprojects\\google_ml_exercises\\.venv\\lib\\site-packages (from requests<3,>=2.21.0->tensorflow~=2.18.0) (3.4.2)\n",
      "Requirement already satisfied: idna<4,>=2.5 in c:\\users\\user\\pycharmprojects\\google_ml_exercises\\.venv\\lib\\site-packages (from requests<3,>=2.21.0->tensorflow~=2.18.0) (3.10)\n",
      "Requirement already satisfied: urllib3<3,>=1.21.1 in c:\\users\\user\\pycharmprojects\\google_ml_exercises\\.venv\\lib\\site-packages (from requests<3,>=2.21.0->tensorflow~=2.18.0) (2.4.0)\n",
      "Requirement already satisfied: certifi>=2017.4.17 in c:\\users\\user\\pycharmprojects\\google_ml_exercises\\.venv\\lib\\site-packages (from requests<3,>=2.21.0->tensorflow~=2.18.0) (2025.6.15)\n",
      "Requirement already satisfied: markdown>=2.6.8 in c:\\users\\user\\pycharmprojects\\google_ml_exercises\\.venv\\lib\\site-packages (from tensorboard<2.19,>=2.18->tensorflow~=2.18.0) (3.8)\n",
      "Requirement already satisfied: tensorboard-data-server<0.8.0,>=0.7.0 in c:\\users\\user\\pycharmprojects\\google_ml_exercises\\.venv\\lib\\site-packages (from tensorboard<2.19,>=2.18->tensorflow~=2.18.0) (0.7.2)\n",
      "Requirement already satisfied: werkzeug>=1.0.1 in c:\\users\\user\\pycharmprojects\\google_ml_exercises\\.venv\\lib\\site-packages (from tensorboard<2.19,>=2.18->tensorflow~=2.18.0) (3.1.3)\n",
      "Requirement already satisfied: markdown-it-py>=2.2.0 in c:\\users\\user\\pycharmprojects\\google_ml_exercises\\.venv\\lib\\site-packages (from rich->keras~=3.8.0) (3.0.0)\n",
      "Requirement already satisfied: pygments<3.0.0,>=2.13.0 in c:\\users\\user\\pycharmprojects\\google_ml_exercises\\.venv\\lib\\site-packages (from rich->keras~=3.8.0) (2.19.1)\n",
      "Requirement already satisfied: mdurl~=0.1 in c:\\users\\user\\pycharmprojects\\google_ml_exercises\\.venv\\lib\\site-packages (from markdown-it-py>=2.2.0->rich->keras~=3.8.0) (0.1.2)\n",
      "Requirement already satisfied: MarkupSafe>=2.1.1 in c:\\users\\user\\pycharmprojects\\google_ml_exercises\\.venv\\lib\\site-packages (from werkzeug>=1.0.1->tensorboard<2.19,>=2.18->tensorflow~=2.18.0) (3.0.2)\n",
      "\n",
      "\n",
      "All requirements successfully installed.\n"
     ]
    },
    {
     "name": "stderr",
     "output_type": "stream",
     "text": [
      "\n",
      "[notice] A new release of pip is available: 23.2.1 -> 25.1.1\n",
      "[notice] To update, run: python.exe -m pip install --upgrade pip\n"
     ]
    }
   ],
   "execution_count": 3
  },
  {
   "metadata": {
    "ExecuteTime": {
     "end_time": "2025-06-16T10:39:20.977285Z",
     "start_time": "2025-06-16T10:39:20.137657Z"
    }
   },
   "cell_type": "code",
   "source": [
    "!pip install plotly \\\n",
    "  seaborn"
   ],
   "id": "501b118948684709",
   "outputs": [
    {
     "name": "stdout",
     "output_type": "stream",
     "text": [
      "Requirement already satisfied: plotly in c:\\users\\user\\pycharmprojects\\google_ml_exercises\\.venv\\lib\\site-packages (6.1.2)\n",
      "Requirement already satisfied: seaborn in c:\\users\\user\\pycharmprojects\\google_ml_exercises\\.venv\\lib\\site-packages (0.13.2)\n",
      "Requirement already satisfied: narwhals>=1.15.1 in c:\\users\\user\\pycharmprojects\\google_ml_exercises\\.venv\\lib\\site-packages (from plotly) (1.42.1)\n",
      "Requirement already satisfied: packaging in c:\\users\\user\\pycharmprojects\\google_ml_exercises\\.venv\\lib\\site-packages (from plotly) (25.0)\n",
      "Requirement already satisfied: numpy!=1.24.0,>=1.20 in c:\\users\\user\\pycharmprojects\\google_ml_exercises\\.venv\\lib\\site-packages (from seaborn) (2.0.2)\n",
      "Requirement already satisfied: pandas>=1.2 in c:\\users\\user\\pycharmprojects\\google_ml_exercises\\.venv\\lib\\site-packages (from seaborn) (2.2.3)\n",
      "Requirement already satisfied: matplotlib!=3.6.1,>=3.4 in c:\\users\\user\\pycharmprojects\\google_ml_exercises\\.venv\\lib\\site-packages (from seaborn) (3.10.3)\n",
      "Requirement already satisfied: contourpy>=1.0.1 in c:\\users\\user\\pycharmprojects\\google_ml_exercises\\.venv\\lib\\site-packages (from matplotlib!=3.6.1,>=3.4->seaborn) (1.3.2)\n",
      "Requirement already satisfied: cycler>=0.10 in c:\\users\\user\\pycharmprojects\\google_ml_exercises\\.venv\\lib\\site-packages (from matplotlib!=3.6.1,>=3.4->seaborn) (0.12.1)\n",
      "Requirement already satisfied: fonttools>=4.22.0 in c:\\users\\user\\pycharmprojects\\google_ml_exercises\\.venv\\lib\\site-packages (from matplotlib!=3.6.1,>=3.4->seaborn) (4.58.4)\n",
      "Requirement already satisfied: kiwisolver>=1.3.1 in c:\\users\\user\\pycharmprojects\\google_ml_exercises\\.venv\\lib\\site-packages (from matplotlib!=3.6.1,>=3.4->seaborn) (1.4.8)\n",
      "Requirement already satisfied: pillow>=8 in c:\\users\\user\\pycharmprojects\\google_ml_exercises\\.venv\\lib\\site-packages (from matplotlib!=3.6.1,>=3.4->seaborn) (11.2.1)\n",
      "Requirement already satisfied: pyparsing>=2.3.1 in c:\\users\\user\\pycharmprojects\\google_ml_exercises\\.venv\\lib\\site-packages (from matplotlib!=3.6.1,>=3.4->seaborn) (3.2.3)\n",
      "Requirement already satisfied: python-dateutil>=2.7 in c:\\users\\user\\pycharmprojects\\google_ml_exercises\\.venv\\lib\\site-packages (from matplotlib!=3.6.1,>=3.4->seaborn) (2.9.0.post0)\n",
      "Requirement already satisfied: pytz>=2020.1 in c:\\users\\user\\pycharmprojects\\google_ml_exercises\\.venv\\lib\\site-packages (from pandas>=1.2->seaborn) (2025.2)\n",
      "Requirement already satisfied: tzdata>=2022.7 in c:\\users\\user\\pycharmprojects\\google_ml_exercises\\.venv\\lib\\site-packages (from pandas>=1.2->seaborn) (2025.2)\n",
      "Requirement already satisfied: six>=1.5 in c:\\users\\user\\pycharmprojects\\google_ml_exercises\\.venv\\lib\\site-packages (from python-dateutil>=2.7->matplotlib!=3.6.1,>=3.4->seaborn) (1.17.0)\n"
     ]
    },
    {
     "name": "stderr",
     "output_type": "stream",
     "text": [
      "\n",
      "[notice] A new release of pip is available: 23.2.1 -> 25.1.1\n",
      "[notice] To update, run: python.exe -m pip install --upgrade pip\n"
     ]
    }
   ],
   "execution_count": 4
  },
  {
   "metadata": {
    "ExecuteTime": {
     "end_time": "2025-06-16T10:39:23.205237Z",
     "start_time": "2025-06-16T10:39:20.978336Z"
    }
   },
   "cell_type": "code",
   "source": [
    "#@title Code - Load dependencies\n",
    "\n",
    "#general\n",
    "import io\n",
    "\n",
    "# data\n",
    "import numpy as np\n",
    "import pandas as pd\n",
    "\n",
    "# machine learning\n",
    "import keras\n",
    "\n",
    "# data visualization\n",
    "import plotly.express as px\n",
    "from plotly.subplots import make_subplots\n",
    "import plotly.graph_objects as go\n",
    "import seaborn as sns"
   ],
   "id": "bf701a849a6682a0",
   "outputs": [],
   "execution_count": 5
  },
  {
   "metadata": {
    "ExecuteTime": {
     "end_time": "2025-06-16T10:39:33.837108Z",
     "start_time": "2025-06-16T10:39:23.206358Z"
    }
   },
   "cell_type": "code",
   "source": [
    "# @title\n",
    "chicago_taxi_dataset = pd.read_csv(\"https://download.mlcc.google.com/mledu-datasets/chicago_taxi_train.csv\")"
   ],
   "id": "1a36551daddff2ed",
   "outputs": [],
   "execution_count": 6
  },
  {
   "metadata": {
    "ExecuteTime": {
     "end_time": "2025-06-16T10:39:33.853080Z",
     "start_time": "2025-06-16T10:39:33.837108Z"
    }
   },
   "cell_type": "code",
   "source": [
    "#@title Code - Read dataset\n",
    "\n",
    "# Updates dataframe to use specific columns.\n",
    "training_df = chicago_taxi_dataset[['TRIP_MILES', 'TRIP_SECONDS', 'FARE', 'COMPANY', 'PAYMENT_TYPE', 'TIP_RATE']]\n",
    "\n",
    "print('Read dataset completed successfully.')\n",
    "print('Total number of rows: {0}\\n\\n'.format(len(training_df.index)))\n",
    "training_df.head(200)"
   ],
   "id": "584bd99a0a19a627",
   "outputs": [
    {
     "name": "stdout",
     "output_type": "stream",
     "text": [
      "Read dataset completed successfully.\n",
      "Total number of rows: 31694\n",
      "\n",
      "\n"
     ]
    },
    {
     "data": {
      "text/plain": [
       "     TRIP_MILES  TRIP_SECONDS   FARE                       COMPANY  \\\n",
       "0          2.57          2341  31.99                     Flash Cab   \n",
       "1          1.18          1074   9.75                     Flash Cab   \n",
       "2          1.29          1173  10.25                      Sun Taxi   \n",
       "3          3.70          3360  23.75       Choice Taxi Association   \n",
       "4          1.15          1044  10.00                     Flash Cab   \n",
       "..          ...           ...    ...                           ...   \n",
       "195        1.13           821   9.00  Blue Ribbon Taxi Association   \n",
       "196        0.57           414   6.00                     Flash Cab   \n",
       "197        1.22           886   9.00                  City Service   \n",
       "198        1.68          1219   9.00                      Sun Taxi   \n",
       "199        0.71           515   6.50                      Sun Taxi   \n",
       "\n",
       "    PAYMENT_TYPE  TIP_RATE  \n",
       "0         Mobile       6.3  \n",
       "1    Credit Card      27.9  \n",
       "2           Cash       0.0  \n",
       "3           Cash       0.0  \n",
       "4           Cash       0.0  \n",
       "..           ...       ...  \n",
       "195       Mobile      22.9  \n",
       "196         Cash       0.0  \n",
       "197         Cash       0.0  \n",
       "198       Mobile      23.0  \n",
       "199  Credit Card      18.2  \n",
       "\n",
       "[200 rows x 6 columns]"
      ],
      "text/html": [
       "<div>\n",
       "<style scoped>\n",
       "    .dataframe tbody tr th:only-of-type {\n",
       "        vertical-align: middle;\n",
       "    }\n",
       "\n",
       "    .dataframe tbody tr th {\n",
       "        vertical-align: top;\n",
       "    }\n",
       "\n",
       "    .dataframe thead th {\n",
       "        text-align: right;\n",
       "    }\n",
       "</style>\n",
       "<table border=\"1\" class=\"dataframe\">\n",
       "  <thead>\n",
       "    <tr style=\"text-align: right;\">\n",
       "      <th></th>\n",
       "      <th>TRIP_MILES</th>\n",
       "      <th>TRIP_SECONDS</th>\n",
       "      <th>FARE</th>\n",
       "      <th>COMPANY</th>\n",
       "      <th>PAYMENT_TYPE</th>\n",
       "      <th>TIP_RATE</th>\n",
       "    </tr>\n",
       "  </thead>\n",
       "  <tbody>\n",
       "    <tr>\n",
       "      <th>0</th>\n",
       "      <td>2.57</td>\n",
       "      <td>2341</td>\n",
       "      <td>31.99</td>\n",
       "      <td>Flash Cab</td>\n",
       "      <td>Mobile</td>\n",
       "      <td>6.3</td>\n",
       "    </tr>\n",
       "    <tr>\n",
       "      <th>1</th>\n",
       "      <td>1.18</td>\n",
       "      <td>1074</td>\n",
       "      <td>9.75</td>\n",
       "      <td>Flash Cab</td>\n",
       "      <td>Credit Card</td>\n",
       "      <td>27.9</td>\n",
       "    </tr>\n",
       "    <tr>\n",
       "      <th>2</th>\n",
       "      <td>1.29</td>\n",
       "      <td>1173</td>\n",
       "      <td>10.25</td>\n",
       "      <td>Sun Taxi</td>\n",
       "      <td>Cash</td>\n",
       "      <td>0.0</td>\n",
       "    </tr>\n",
       "    <tr>\n",
       "      <th>3</th>\n",
       "      <td>3.70</td>\n",
       "      <td>3360</td>\n",
       "      <td>23.75</td>\n",
       "      <td>Choice Taxi Association</td>\n",
       "      <td>Cash</td>\n",
       "      <td>0.0</td>\n",
       "    </tr>\n",
       "    <tr>\n",
       "      <th>4</th>\n",
       "      <td>1.15</td>\n",
       "      <td>1044</td>\n",
       "      <td>10.00</td>\n",
       "      <td>Flash Cab</td>\n",
       "      <td>Cash</td>\n",
       "      <td>0.0</td>\n",
       "    </tr>\n",
       "    <tr>\n",
       "      <th>...</th>\n",
       "      <td>...</td>\n",
       "      <td>...</td>\n",
       "      <td>...</td>\n",
       "      <td>...</td>\n",
       "      <td>...</td>\n",
       "      <td>...</td>\n",
       "    </tr>\n",
       "    <tr>\n",
       "      <th>195</th>\n",
       "      <td>1.13</td>\n",
       "      <td>821</td>\n",
       "      <td>9.00</td>\n",
       "      <td>Blue Ribbon Taxi Association</td>\n",
       "      <td>Mobile</td>\n",
       "      <td>22.9</td>\n",
       "    </tr>\n",
       "    <tr>\n",
       "      <th>196</th>\n",
       "      <td>0.57</td>\n",
       "      <td>414</td>\n",
       "      <td>6.00</td>\n",
       "      <td>Flash Cab</td>\n",
       "      <td>Cash</td>\n",
       "      <td>0.0</td>\n",
       "    </tr>\n",
       "    <tr>\n",
       "      <th>197</th>\n",
       "      <td>1.22</td>\n",
       "      <td>886</td>\n",
       "      <td>9.00</td>\n",
       "      <td>City Service</td>\n",
       "      <td>Cash</td>\n",
       "      <td>0.0</td>\n",
       "    </tr>\n",
       "    <tr>\n",
       "      <th>198</th>\n",
       "      <td>1.68</td>\n",
       "      <td>1219</td>\n",
       "      <td>9.00</td>\n",
       "      <td>Sun Taxi</td>\n",
       "      <td>Mobile</td>\n",
       "      <td>23.0</td>\n",
       "    </tr>\n",
       "    <tr>\n",
       "      <th>199</th>\n",
       "      <td>0.71</td>\n",
       "      <td>515</td>\n",
       "      <td>6.50</td>\n",
       "      <td>Sun Taxi</td>\n",
       "      <td>Credit Card</td>\n",
       "      <td>18.2</td>\n",
       "    </tr>\n",
       "  </tbody>\n",
       "</table>\n",
       "<p>200 rows × 6 columns</p>\n",
       "</div>"
      ]
     },
     "execution_count": 7,
     "metadata": {},
     "output_type": "execute_result"
    }
   ],
   "execution_count": 7
  },
  {
   "metadata": {
    "ExecuteTime": {
     "end_time": "2025-06-16T10:39:33.883265Z",
     "start_time": "2025-06-16T10:39:33.853080Z"
    }
   },
   "cell_type": "code",
   "source": [
    "#@title Code - View dataset statistics\n",
    "\n",
    "print('Total number of rows: {0}\\n\\n'.format(len(training_df.index)))\n",
    "training_df.describe(include='all')"
   ],
   "id": "43e4b0ea938a17fa",
   "outputs": [
    {
     "name": "stdout",
     "output_type": "stream",
     "text": [
      "Total number of rows: 31694\n",
      "\n",
      "\n"
     ]
    },
    {
     "data": {
      "text/plain": [
       "          TRIP_MILES  TRIP_SECONDS          FARE    COMPANY PAYMENT_TYPE  \\\n",
       "count   31694.000000  31694.000000  31694.000000      31694        31694   \n",
       "unique           NaN           NaN           NaN         31            7   \n",
       "top              NaN           NaN           NaN  Flash Cab  Credit Card   \n",
       "freq             NaN           NaN           NaN       7887        14142   \n",
       "mean        8.289463   1319.796397     23.905210        NaN          NaN   \n",
       "std         7.265672    928.932873     16.970022        NaN          NaN   \n",
       "min         0.500000     60.000000      3.250000        NaN          NaN   \n",
       "25%         1.720000    548.000000      9.000000        NaN          NaN   \n",
       "50%         5.920000   1081.000000     18.750000        NaN          NaN   \n",
       "75%        14.500000   1888.000000     38.750000        NaN          NaN   \n",
       "max        68.120000   7140.000000    159.250000        NaN          NaN   \n",
       "\n",
       "            TIP_RATE  \n",
       "count   31694.000000  \n",
       "unique           NaN  \n",
       "top              NaN  \n",
       "freq             NaN  \n",
       "mean       12.965785  \n",
       "std        15.517765  \n",
       "min         0.000000  \n",
       "25%         0.000000  \n",
       "50%        12.200000  \n",
       "75%        20.800000  \n",
       "max       648.600000  "
      ],
      "text/html": [
       "<div>\n",
       "<style scoped>\n",
       "    .dataframe tbody tr th:only-of-type {\n",
       "        vertical-align: middle;\n",
       "    }\n",
       "\n",
       "    .dataframe tbody tr th {\n",
       "        vertical-align: top;\n",
       "    }\n",
       "\n",
       "    .dataframe thead th {\n",
       "        text-align: right;\n",
       "    }\n",
       "</style>\n",
       "<table border=\"1\" class=\"dataframe\">\n",
       "  <thead>\n",
       "    <tr style=\"text-align: right;\">\n",
       "      <th></th>\n",
       "      <th>TRIP_MILES</th>\n",
       "      <th>TRIP_SECONDS</th>\n",
       "      <th>FARE</th>\n",
       "      <th>COMPANY</th>\n",
       "      <th>PAYMENT_TYPE</th>\n",
       "      <th>TIP_RATE</th>\n",
       "    </tr>\n",
       "  </thead>\n",
       "  <tbody>\n",
       "    <tr>\n",
       "      <th>count</th>\n",
       "      <td>31694.000000</td>\n",
       "      <td>31694.000000</td>\n",
       "      <td>31694.000000</td>\n",
       "      <td>31694</td>\n",
       "      <td>31694</td>\n",
       "      <td>31694.000000</td>\n",
       "    </tr>\n",
       "    <tr>\n",
       "      <th>unique</th>\n",
       "      <td>NaN</td>\n",
       "      <td>NaN</td>\n",
       "      <td>NaN</td>\n",
       "      <td>31</td>\n",
       "      <td>7</td>\n",
       "      <td>NaN</td>\n",
       "    </tr>\n",
       "    <tr>\n",
       "      <th>top</th>\n",
       "      <td>NaN</td>\n",
       "      <td>NaN</td>\n",
       "      <td>NaN</td>\n",
       "      <td>Flash Cab</td>\n",
       "      <td>Credit Card</td>\n",
       "      <td>NaN</td>\n",
       "    </tr>\n",
       "    <tr>\n",
       "      <th>freq</th>\n",
       "      <td>NaN</td>\n",
       "      <td>NaN</td>\n",
       "      <td>NaN</td>\n",
       "      <td>7887</td>\n",
       "      <td>14142</td>\n",
       "      <td>NaN</td>\n",
       "    </tr>\n",
       "    <tr>\n",
       "      <th>mean</th>\n",
       "      <td>8.289463</td>\n",
       "      <td>1319.796397</td>\n",
       "      <td>23.905210</td>\n",
       "      <td>NaN</td>\n",
       "      <td>NaN</td>\n",
       "      <td>12.965785</td>\n",
       "    </tr>\n",
       "    <tr>\n",
       "      <th>std</th>\n",
       "      <td>7.265672</td>\n",
       "      <td>928.932873</td>\n",
       "      <td>16.970022</td>\n",
       "      <td>NaN</td>\n",
       "      <td>NaN</td>\n",
       "      <td>15.517765</td>\n",
       "    </tr>\n",
       "    <tr>\n",
       "      <th>min</th>\n",
       "      <td>0.500000</td>\n",
       "      <td>60.000000</td>\n",
       "      <td>3.250000</td>\n",
       "      <td>NaN</td>\n",
       "      <td>NaN</td>\n",
       "      <td>0.000000</td>\n",
       "    </tr>\n",
       "    <tr>\n",
       "      <th>25%</th>\n",
       "      <td>1.720000</td>\n",
       "      <td>548.000000</td>\n",
       "      <td>9.000000</td>\n",
       "      <td>NaN</td>\n",
       "      <td>NaN</td>\n",
       "      <td>0.000000</td>\n",
       "    </tr>\n",
       "    <tr>\n",
       "      <th>50%</th>\n",
       "      <td>5.920000</td>\n",
       "      <td>1081.000000</td>\n",
       "      <td>18.750000</td>\n",
       "      <td>NaN</td>\n",
       "      <td>NaN</td>\n",
       "      <td>12.200000</td>\n",
       "    </tr>\n",
       "    <tr>\n",
       "      <th>75%</th>\n",
       "      <td>14.500000</td>\n",
       "      <td>1888.000000</td>\n",
       "      <td>38.750000</td>\n",
       "      <td>NaN</td>\n",
       "      <td>NaN</td>\n",
       "      <td>20.800000</td>\n",
       "    </tr>\n",
       "    <tr>\n",
       "      <th>max</th>\n",
       "      <td>68.120000</td>\n",
       "      <td>7140.000000</td>\n",
       "      <td>159.250000</td>\n",
       "      <td>NaN</td>\n",
       "      <td>NaN</td>\n",
       "      <td>648.600000</td>\n",
       "    </tr>\n",
       "  </tbody>\n",
       "</table>\n",
       "</div>"
      ]
     },
     "execution_count": 8,
     "metadata": {},
     "output_type": "execute_result"
    }
   ],
   "execution_count": 8
  },
  {
   "metadata": {
    "ExecuteTime": {
     "end_time": "2025-06-16T10:39:33.898856Z",
     "start_time": "2025-06-16T10:39:33.884515Z"
    }
   },
   "cell_type": "code",
   "source": [
    "#@title Double-click or run to view answers about dataset statistics\n",
    "\n",
    "answer = '''\n",
    "What is the maximum fare? \t\t\t\t              Answer: $159.25\n",
    "What is the mean distance across all trips? \t\tAnswer: 8.2895 miles\n",
    "How many cab companies are in the dataset? \t\t  Answer: 31\n",
    "What is the most frequent payment type? \t\t    Answer: Credit Card\n",
    "Are any features missing data? \t\t\t\t          Answer: No\n",
    "'''\n",
    "\n",
    "# You should be able to find the answers to the questions about the dataset\n",
    "# by inspecting the table output after running the DataFrame describe method.\n",
    "#\n",
    "# Run this code cell to verify your answers.\n",
    "\n",
    "# What is the maximum fare?\n",
    "max_fare = training_df['FARE'].max()\n",
    "print(\"What is the maximum fare? \\t\\t\\t\\tAnswer: ${fare:.2f}\".format(fare = max_fare))\n",
    "\n",
    "# What is the mean distance across all trips?\n",
    "mean_distance = training_df['TRIP_MILES'].mean()\n",
    "print(\"What is the mean distance across all trips? \\t\\tAnswer: {mean:.4f} miles\".format(mean = mean_distance))\n",
    "\n",
    "# How many cab companies are in the dataset?\n",
    "num_unique_companies =  training_df['COMPANY'].nunique()\n",
    "print(\"How many cab companies are in the dataset? \\t\\tAnswer: {number}\".format(number = num_unique_companies))\n",
    "\n",
    "# What is the most frequent payment type?\n",
    "most_freq_payment_type = training_df['PAYMENT_TYPE'].value_counts().idxmax()\n",
    "print(\"What is the most frequent payment type? \\t\\tAnswer: {type}\".format(type = most_freq_payment_type))\n",
    "\n",
    "# Are any features missing data?\n",
    "missing_values = training_df.isnull().sum().sum()\n",
    "print(\"Are any features missing data? \\t\\t\\t\\tAnswer:\", \"No\" if missing_values == 0 else \"Yes\")"
   ],
   "id": "20b04a32fb789173",
   "outputs": [
    {
     "name": "stdout",
     "output_type": "stream",
     "text": [
      "What is the maximum fare? \t\t\t\tAnswer: $159.25\n",
      "What is the mean distance across all trips? \t\tAnswer: 8.2895 miles\n",
      "How many cab companies are in the dataset? \t\tAnswer: 31\n",
      "What is the most frequent payment type? \t\tAnswer: Credit Card\n",
      "Are any features missing data? \t\t\t\tAnswer: No\n"
     ]
    }
   ],
   "execution_count": 9
  },
  {
   "metadata": {
    "ExecuteTime": {
     "end_time": "2025-06-16T10:39:33.914793Z",
     "start_time": "2025-06-16T10:39:33.898856Z"
    }
   },
   "cell_type": "code",
   "source": [
    "#@title Code - View correlation matrix\n",
    "training_df.corr(numeric_only = True)"
   ],
   "id": "74b35f9956076fff",
   "outputs": [
    {
     "data": {
      "text/plain": [
       "              TRIP_MILES  TRIP_SECONDS      FARE  TIP_RATE\n",
       "TRIP_MILES      1.000000      0.800855  0.975344 -0.049594\n",
       "TRIP_SECONDS    0.800855      1.000000  0.830292 -0.084294\n",
       "FARE            0.975344      0.830292  1.000000 -0.070979\n",
       "TIP_RATE       -0.049594     -0.084294 -0.070979  1.000000"
      ],
      "text/html": [
       "<div>\n",
       "<style scoped>\n",
       "    .dataframe tbody tr th:only-of-type {\n",
       "        vertical-align: middle;\n",
       "    }\n",
       "\n",
       "    .dataframe tbody tr th {\n",
       "        vertical-align: top;\n",
       "    }\n",
       "\n",
       "    .dataframe thead th {\n",
       "        text-align: right;\n",
       "    }\n",
       "</style>\n",
       "<table border=\"1\" class=\"dataframe\">\n",
       "  <thead>\n",
       "    <tr style=\"text-align: right;\">\n",
       "      <th></th>\n",
       "      <th>TRIP_MILES</th>\n",
       "      <th>TRIP_SECONDS</th>\n",
       "      <th>FARE</th>\n",
       "      <th>TIP_RATE</th>\n",
       "    </tr>\n",
       "  </thead>\n",
       "  <tbody>\n",
       "    <tr>\n",
       "      <th>TRIP_MILES</th>\n",
       "      <td>1.000000</td>\n",
       "      <td>0.800855</td>\n",
       "      <td>0.975344</td>\n",
       "      <td>-0.049594</td>\n",
       "    </tr>\n",
       "    <tr>\n",
       "      <th>TRIP_SECONDS</th>\n",
       "      <td>0.800855</td>\n",
       "      <td>1.000000</td>\n",
       "      <td>0.830292</td>\n",
       "      <td>-0.084294</td>\n",
       "    </tr>\n",
       "    <tr>\n",
       "      <th>FARE</th>\n",
       "      <td>0.975344</td>\n",
       "      <td>0.830292</td>\n",
       "      <td>1.000000</td>\n",
       "      <td>-0.070979</td>\n",
       "    </tr>\n",
       "    <tr>\n",
       "      <th>TIP_RATE</th>\n",
       "      <td>-0.049594</td>\n",
       "      <td>-0.084294</td>\n",
       "      <td>-0.070979</td>\n",
       "      <td>1.000000</td>\n",
       "    </tr>\n",
       "  </tbody>\n",
       "</table>\n",
       "</div>"
      ]
     },
     "execution_count": 10,
     "metadata": {},
     "output_type": "execute_result"
    }
   ],
   "execution_count": 10
  },
  {
   "metadata": {
    "ExecuteTime": {
     "end_time": "2025-06-16T10:39:33.931022Z",
     "start_time": "2025-06-16T10:39:33.914793Z"
    }
   },
   "cell_type": "code",
   "source": [
    "#@title Double-click to view answers about the correlation matrix\n",
    "\n",
    "# Which feature correlates most strongly to the label FARE?\n",
    "# ---------------------------------------------------------\n",
    "answer = '''\n",
    "The feature with the strongest correlation to the FARE is TRIP_MILES.\n",
    "As you might expect, TRIP_MILES looks like a good feature to start with to train\n",
    "the model. Also, notice that the feature TRIP_SECONDS has a strong correlation\n",
    "with fare too.\n",
    "'''\n",
    "print(answer)\n",
    "\n",
    "\n",
    "# Which feature correlates least strongly to the label FARE?\n",
    "# -----------------------------------------------------------\n",
    "answer = '''The feature with the weakest correlation to the FARE is TIP_RATE.'''\n",
    "print(answer)"
   ],
   "id": "9f51a13a62daa37a",
   "outputs": [
    {
     "name": "stdout",
     "output_type": "stream",
     "text": [
      "\n",
      "The feature with the strongest correlation to the FARE is TRIP_MILES.\n",
      "As you might expect, TRIP_MILES looks like a good feature to start with to train\n",
      "the model. Also, notice that the feature TRIP_SECONDS has a strong correlation\n",
      "with fare too.\n",
      "\n",
      "The feature with the weakest correlation to the FARE is TIP_RATE.\n"
     ]
    }
   ],
   "execution_count": 11
  },
  {
   "metadata": {
    "ExecuteTime": {
     "end_time": "2025-06-16T10:39:34.992025Z",
     "start_time": "2025-06-16T10:39:33.932197Z"
    }
   },
   "cell_type": "code",
   "source": [
    "#@title Code - View pairplot\n",
    "sns.pairplot(training_df, x_vars=[\"FARE\", \"TRIP_MILES\", \"TRIP_SECONDS\"], y_vars=[\"FARE\", \"TRIP_MILES\", \"TRIP_SECONDS\"])"
   ],
   "id": "548f0027279de6b1",
   "outputs": [
    {
     "data": {
      "text/plain": [
       "<seaborn.axisgrid.PairGrid at 0x20a1a1d2da0>"
      ]
     },
     "execution_count": 12,
     "metadata": {},
     "output_type": "execute_result"
    },
    {
     "data": {
      "text/plain": [
       "<Figure size 750x750 with 12 Axes>"
      ],
      "image/png": "[encoded data removed]"
     },
     "metadata": {},
     "output_type": "display_data"
    }
   ],
   "execution_count": 12
  },
  {
   "metadata": {
    "ExecuteTime": {
     "end_time": "2025-06-16T10:39:35.007858Z",
     "start_time": "2025-06-16T10:39:34.993022Z"
    }
   },
   "cell_type": "code",
   "source": [
    "#@title Define plotting functions\n",
    "\n",
    "def make_plots(df, feature_names, label_name, model_output, sample_size=200):\n",
    "\n",
    "  random_sample = df.sample(n=sample_size).copy()\n",
    "  random_sample.reset_index()\n",
    "  weights, bias, epochs, rmse = model_output\n",
    "\n",
    "  is_2d_plot = len(feature_names) == 1\n",
    "  model_plot_type = \"scatter\" if is_2d_plot else \"surface\"\n",
    "  fig = make_subplots(rows=1, cols=2,\n",
    "                      subplot_titles=(\"Loss Curve\", \"Model Plot\"),\n",
    "                      specs=[[{\"type\": \"scatter\"}, {\"type\": model_plot_type}]])\n",
    "\n",
    "  plot_data(random_sample, feature_names, label_name, fig)\n",
    "  plot_model(random_sample, feature_names, weights, bias, fig)\n",
    "  plot_loss_curve(epochs, rmse, fig)\n",
    "\n",
    "  fig.show()\n",
    "  return\n",
    "\n",
    "def plot_loss_curve(epochs, rmse, fig):\n",
    "  curve = px.line(x=epochs, y=rmse)\n",
    "  curve.update_traces(line_color='#ff0000', line_width=3)\n",
    "\n",
    "  fig.append_trace(curve.data[0], row=1, col=1)\n",
    "  fig.update_xaxes(title_text=\"Epoch\", row=1, col=1)\n",
    "  fig.update_yaxes(title_text=\"Root Mean Squared Error\", row=1, col=1, range=[rmse.min()*0.8, rmse.max()])\n",
    "\n",
    "  return\n",
    "\n",
    "def plot_data(df, features, label, fig):\n",
    "  if len(features) == 1:\n",
    "    scatter = px.scatter(df, x=features[0], y=label)\n",
    "  else:\n",
    "    scatter = px.scatter_3d(df, x=features[0], y=features[1], z=label)\n",
    "\n",
    "  fig.append_trace(scatter.data[0], row=1, col=2)\n",
    "  if len(features) == 1:\n",
    "    fig.update_xaxes(title_text=features[0], row=1, col=2)\n",
    "    fig.update_yaxes(title_text=label, row=1, col=2)\n",
    "  else:\n",
    "    fig.update_layout(scene1=dict(xaxis_title=features[0], yaxis_title=features[1], zaxis_title=label))\n",
    "\n",
    "  return\n",
    "\n",
    "def plot_model(df, features, weights, bias, fig):\n",
    "  df['FARE_PREDICTED'] = bias[0]\n",
    "\n",
    "  for index, feature in enumerate(features):\n",
    "    df['FARE_PREDICTED'] = df['FARE_PREDICTED'] + weights[index][0] * df[feature]\n",
    "\n",
    "  if len(features) == 1:\n",
    "    model = px.line(df, x=features[0], y='FARE_PREDICTED')\n",
    "    model.update_traces(line_color='#ff0000', line_width=3)\n",
    "  else:\n",
    "    z_name, y_name = \"FARE_PREDICTED\", features[1]\n",
    "    z = [df[z_name].min(), (df[z_name].max() - df[z_name].min()) / 2, df[z_name].max()]\n",
    "    y = [df[y_name].min(), (df[y_name].max() - df[y_name].min()) / 2, df[y_name].max()]\n",
    "    x = []\n",
    "    for i in range(len(y)):\n",
    "      x.append((z[i] - weights[1][0] * y[i] - bias[0]) / weights[0][0])\n",
    "\n",
    "    plane=pd.DataFrame({'x':x, 'y':y, 'z':[z] * 3})\n",
    "\n",
    "    light_yellow = [[0, '#89CFF0'], [1, '#FFDB58']]\n",
    "    model = go.Figure(data=go.Surface(x=plane['x'], y=plane['y'], z=plane['z'],\n",
    "                                      colorscale=light_yellow))\n",
    "\n",
    "  fig.add_trace(model.data[0], row=1, col=2)\n",
    "\n",
    "  return\n",
    "\n",
    "def model_info(feature_names, label_name, model_output):\n",
    "  weights = model_output[0]\n",
    "  bias = model_output[1]\n",
    "\n",
    "  nl = \"\\n\"\n",
    "  header = \"-\" * 80\n",
    "  banner = header + nl + \"|\" + \"MODEL INFO\".center(78) + \"|\" + nl + header\n",
    "\n",
    "  info = \"\"\n",
    "  equation = label_name + \" = \"\n",
    "\n",
    "  for index, feature in enumerate(feature_names):\n",
    "    info = info + \"Weight for feature[{}]: {:.3f}\\n\".format(feature, weights[index][0])\n",
    "    equation = equation + \"{:.3f} * {} + \".format(weights[index][0], feature)\n",
    "\n",
    "  info = info + \"Bias: {:.3f}\\n\".format(bias[0])\n",
    "  equation = equation + \"{:.3f}\\n\".format(bias[0])\n",
    "\n",
    "  return banner + nl + info + nl + equation\n",
    "\n",
    "print(\"SUCCESS: defining plotting functions complete.\")"
   ],
   "id": "25b7b46fc6424b88",
   "outputs": [
    {
     "name": "stdout",
     "output_type": "stream",
     "text": [
      "SUCCESS: defining plotting functions complete.\n"
     ]
    }
   ],
   "execution_count": 13
  },
  {
   "metadata": {
    "ExecuteTime": {
     "end_time": "2025-06-16T10:39:35.023898Z",
     "start_time": "2025-06-16T10:39:35.007858Z"
    }
   },
   "cell_type": "code",
   "source": [
    "#@title Code - Define ML functions\n",
    "\n",
    "def build_model(my_learning_rate, num_features):\n",
    "  \"\"\"Create and compile a simple linear regression model.\"\"\"\n",
    "  # Describe the topography of the model.\n",
    "  # The topography of a simple linear regression model\n",
    "  # is a single node in a single layer.\n",
    "  inputs = keras.Input(shape=(num_features,))\n",
    "  outputs = keras.layers.Dense(units=1)(inputs)\n",
    "  model = keras.Model(inputs=inputs, outputs=outputs)\n",
    "\n",
    "  # Compile the model topography into code that Keras can efficiently\n",
    "  # execute. Configure training to minimize the model's mean squared error.\n",
    "  model.compile(optimizer=keras.optimizers.RMSprop(learning_rate=my_learning_rate),\n",
    "                loss=\"mean_squared_error\",\n",
    "                metrics=[keras.metrics.RootMeanSquaredError()])\n",
    "\n",
    "  return model\n",
    "\n",
    "\n",
    "def train_model(model, features, label, epochs, batch_size):\n",
    "  \"\"\"Train the model by feeding it data.\"\"\"\n",
    "\n",
    "  # Feed the model the feature and the label.\n",
    "  # The model will train for the specified number of epochs.\n",
    "  history = model.fit(x=features,\n",
    "                      y=label,\n",
    "                      batch_size=batch_size,\n",
    "                      epochs=epochs)\n",
    "\n",
    "  # Gather the trained model's weight and bias.\n",
    "  trained_weight = model.get_weights()[0]\n",
    "  trained_bias = model.get_weights()[1]\n",
    "\n",
    "  # The list of epochs is stored separately from the rest of history.\n",
    "  epochs = history.epoch\n",
    "\n",
    "  # Isolate the error for each epoch.\n",
    "  hist = pd.DataFrame(history.history)\n",
    "\n",
    "  # To track the progression of training, we're going to take a snapshot\n",
    "  # of the model's root mean squared error at each epoch.\n",
    "  rmse = hist[\"root_mean_squared_error\"]\n",
    "\n",
    "  return trained_weight, trained_bias, epochs, rmse\n",
    "\n",
    "\n",
    "def run_experiment(df, feature_names, label_name, learning_rate, epochs, batch_size):\n",
    "\n",
    "  print('INFO: starting training experiment with features={} and label={}\\n'.format(feature_names, label_name))\n",
    "\n",
    "  num_features = len(feature_names)\n",
    "\n",
    "  features = df.loc[:, feature_names].values\n",
    "  label = df[label_name].values\n",
    "\n",
    "  model = build_model(learning_rate, num_features)\n",
    "  model_output = train_model(model, features, label, epochs, batch_size)\n",
    "\n",
    "  print('\\nSUCCESS: training experiment complete\\n')\n",
    "  print('{}'.format(model_info(feature_names, label_name, model_output)))\n",
    "  make_plots(df, feature_names, label_name, model_output)\n",
    "\n",
    "  return model\n",
    "\n",
    "print(\"SUCCESS: defining linear regression functions complete.\")"
   ],
   "id": "610443c55a1d16ea",
   "outputs": [
    {
     "name": "stdout",
     "output_type": "stream",
     "text": [
      "SUCCESS: defining linear regression functions complete.\n"
     ]
    }
   ],
   "execution_count": 14
  },
  {
   "metadata": {
    "ExecuteTime": {
     "end_time": "2025-06-16T10:42:24.812913Z",
     "start_time": "2025-06-16T10:42:18.821726Z"
    }
   },
   "cell_type": "code",
   "source": [
    "#@title Code - Experiment 1\n",
    "\n",
    "# The following variables are the hyperparameters.\n",
    "learning_rate = 0.001\n",
    "epochs = 20\n",
    "batch_size = 50\n",
    "\n",
    "# Specify the feature and the label.\n",
    "features = ['TRIP_MILES']\n",
    "label = 'FARE'\n",
    "\n",
    "model_1 = run_experiment(training_df, features, label, learning_rate, epochs, batch_size)"
   ],
   "id": "eb6b8507bf0a7ecb",
   "outputs": [
    {
     "name": "stdout",
     "output_type": "stream",
     "text": [
      "INFO: starting training experiment with features=['TRIP_MILES'] and label=FARE\n",
      "\n",
      "Epoch 1/20\n",
      "\u001B[1m634/634\u001B[0m \u001B[32m━━━━━━━━━━━━━━━━━━━━\u001B[0m\u001B[37m\u001B[0m \u001B[1m0s\u001B[0m 438us/step - loss: 1723.4602 - root_mean_squared_error: 41.4985\n",
      "Epoch 2/20\n",
      "\u001B[1m634/634\u001B[0m \u001B[32m━━━━━━━━━━━━━━━━━━━━\u001B[0m\u001B[37m\u001B[0m \u001B[1m0s\u001B[0m 427us/step - loss: 1176.3795 - root_mean_squared_error: 34.2791\n",
      "Epoch 3/20\n",
      "\u001B[1m634/634\u001B[0m \u001B[32m━━━━━━━━━━━━━━━━━━━━\u001B[0m\u001B[37m\u001B[0m \u001B[1m0s\u001B[0m 428us/step - loss: 728.3467 - root_mean_squared_error: 26.9691\n",
      "Epoch 4/20\n",
      "\u001B[1m634/634\u001B[0m \u001B[32m━━━━━━━━━━━━━━━━━━━━\u001B[0m\u001B[37m\u001B[0m \u001B[1m0s\u001B[0m 431us/step - loss: 391.0992 - root_mean_squared_error: 19.7548\n",
      "Epoch 5/20\n",
      "\u001B[1m634/634\u001B[0m \u001B[32m━━━━━━━━━━━━━━━━━━━━\u001B[0m\u001B[37m\u001B[0m \u001B[1m0s\u001B[0m 426us/step - loss: 165.9148 - root_mean_squared_error: 12.8381\n",
      "Epoch 6/20\n",
      "\u001B[1m634/634\u001B[0m \u001B[32m━━━━━━━━━━━━━━━━━━━━\u001B[0m\u001B[37m\u001B[0m \u001B[1m0s\u001B[0m 444us/step - loss: 44.4185 - root_mean_squared_error: 6.6025\n",
      "Epoch 7/20\n",
      "\u001B[1m634/634\u001B[0m \u001B[32m━━━━━━━━━━━━━━━━━━━━\u001B[0m\u001B[37m\u001B[0m \u001B[1m0s\u001B[0m 435us/step - loss: 15.7444 - root_mean_squared_error: 3.9616\n",
      "Epoch 8/20\n",
      "\u001B[1m634/634\u001B[0m \u001B[32m━━━━━━━━━━━━━━━━━━━━\u001B[0m\u001B[37m\u001B[0m \u001B[1m0s\u001B[0m 440us/step - loss: 13.6550 - root_mean_squared_error: 3.6850\n",
      "Epoch 9/20\n",
      "\u001B[1m634/634\u001B[0m \u001B[32m━━━━━━━━━━━━━━━━━━━━\u001B[0m\u001B[37m\u001B[0m \u001B[1m0s\u001B[0m 439us/step - loss: 14.1338 - root_mean_squared_error: 3.7576\n",
      "Epoch 10/20\n",
      "\u001B[1m634/634\u001B[0m \u001B[32m━━━━━━━━━━━━━━━━━━━━\u001B[0m\u001B[37m\u001B[0m \u001B[1m0s\u001B[0m 421us/step - loss: 12.4364 - root_mean_squared_error: 3.5132\n",
      "Epoch 11/20\n",
      "\u001B[1m634/634\u001B[0m \u001B[32m━━━━━━━━━━━━━━━━━━━━\u001B[0m\u001B[37m\u001B[0m \u001B[1m0s\u001B[0m 415us/step - loss: 13.7471 - root_mean_squared_error: 3.6960\n",
      "Epoch 12/20\n",
      "\u001B[1m634/634\u001B[0m \u001B[32m━━━━━━━━━━━━━━━━━━━━\u001B[0m\u001B[37m\u001B[0m \u001B[1m0s\u001B[0m 426us/step - loss: 13.7312 - root_mean_squared_error: 3.6923\n",
      "Epoch 13/20\n",
      "\u001B[1m634/634\u001B[0m \u001B[32m━━━━━━━━━━━━━━━━━━━━\u001B[0m\u001B[37m\u001B[0m \u001B[1m0s\u001B[0m 419us/step - loss: 12.8563 - root_mean_squared_error: 3.5758\n",
      "Epoch 14/20\n",
      "\u001B[1m634/634\u001B[0m \u001B[32m━━━━━━━━━━━━━━━━━━━━\u001B[0m\u001B[37m\u001B[0m \u001B[1m0s\u001B[0m 424us/step - loss: 14.3854 - root_mean_squared_error: 3.7852\n",
      "Epoch 15/20\n",
      "\u001B[1m634/634\u001B[0m \u001B[32m━━━━━━━━━━━━━━━━━━━━\u001B[0m\u001B[37m\u001B[0m \u001B[1m0s\u001B[0m 420us/step - loss: 13.4463 - root_mean_squared_error: 3.6625\n",
      "Epoch 16/20\n",
      "\u001B[1m634/634\u001B[0m \u001B[32m━━━━━━━━━━━━━━━━━━━━\u001B[0m\u001B[37m\u001B[0m \u001B[1m0s\u001B[0m 422us/step - loss: 12.9647 - root_mean_squared_error: 3.5922\n",
      "Epoch 17/20\n",
      "\u001B[1m634/634\u001B[0m \u001B[32m━━━━━━━━━━━━━━━━━━━━\u001B[0m\u001B[37m\u001B[0m \u001B[1m0s\u001B[0m 419us/step - loss: 14.0687 - root_mean_squared_error: 3.7463\n",
      "Epoch 18/20\n",
      "\u001B[1m634/634\u001B[0m \u001B[32m━━━━━━━━━━━━━━━━━━━━\u001B[0m\u001B[37m\u001B[0m \u001B[1m0s\u001B[0m 431us/step - loss: 14.3749 - root_mean_squared_error: 3.7866\n",
      "Epoch 19/20\n",
      "\u001B[1m634/634\u001B[0m \u001B[32m━━━━━━━━━━━━━━━━━━━━\u001B[0m\u001B[37m\u001B[0m \u001B[1m0s\u001B[0m 422us/step - loss: 14.4091 - root_mean_squared_error: 3.7931\n",
      "Epoch 20/20\n",
      "\u001B[1m634/634\u001B[0m \u001B[32m━━━━━━━━━━━━━━━━━━━━\u001B[0m\u001B[37m\u001B[0m \u001B[1m0s\u001B[0m 422us/step - loss: 13.0886 - root_mean_squared_error: 3.6126\n",
      "\n",
      "SUCCESS: training experiment complete\n",
      "\n",
      "--------------------------------------------------------------------------------\n",
      "|                                  MODEL INFO                                  |\n",
      "--------------------------------------------------------------------------------\n",
      "Weight for feature[TRIP_MILES]: 2.281\n",
      "Bias: 4.980\n",
      "\n",
      "FARE = 2.281 * TRIP_MILES + 4.980\n",
      "\n"
     ]
    },
    {
     "data": {
      "application/vnd.plotly.v1+json": {
       "data": [
        {
         "hovertemplate": "TRIP_MILES=%{x}<br>FARE=%{y}<extra></extra>",
         "legendgroup": "",
         "marker": {
          "color": "#636efa",
          "symbol": "circle"
         },
         "mode": "markers",
         "name": "",
         "orientation": "v",
         "showlegend": false,
         "x": {
          "dtype": "f8",
          "bdata": "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"
         },
         "xaxis": "x2",
         "y": {
          "dtype": "f8",
          "bdata": "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"
         },
         "yaxis": "y2",
         "type": "scatter"
        },
        {
         "hovertemplate": "TRIP_MILES=%{x}<br>FARE_PREDICTED=%{y}<extra></extra>",
         "legendgroup": "",
         "line": {
          "color": "#ff0000",
          "dash": "solid",
          "width": 3
         },
         "marker": {
          "symbol": "circle"
         },
         "mode": "lines",
         "name": "",
         "orientation": "v",
         "showlegend": false,
         "x": {
          "dtype": "f8",
          "bdata": "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"
         },
         "xaxis": "x2",
         "y": {
          "dtype": "f8",
          "bdata": "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"
         },
         "yaxis": "y2",
         "type": "scatter"
        },
        {
         "hovertemplate": "x=%{x}<br>y=%{y}<extra></extra>",
         "legendgroup": "",
         "line": {
          "color": "#ff0000",
          "dash": "solid",
          "width": 3
         },
         "marker": {
          "symbol": "circle"
         },
         "mode": "lines",
         "name": "",
         "orientation": "v",
         "showlegend": false,
         "x": {
          "dtype": "i1",
          "bdata": "AAECAwQFBgcICQoLDA0ODxAREhM="
         },
         "xaxis": "x",
         "y": {
          "dtype": "f8",
          "bdata": "AAAAIKnbQ0AAAAAgOz1AQAAAACBYQjlAAAAAgKYfMkAAAABgh2ImQAAAAOCojxVAAAAAIBaEDkAAAABgVzcOQAAAAAD2EQ5AAAAAAIkCDkAAAABAtPwNQAAAACDZ+Q1AAAAAwLT4DUAAAABAGPgNQAAAAGC79w1AAAAAIP/3DUAAAADgn/YNQAAAAEBs9w1AAAAAoHz3DUAAAADgcPcNQA=="
         },
         "yaxis": "y",
         "type": "scatter"
        }
       ],
       "layout": {
        "template": {
         "data": {
          "histogram2dcontour": [
           {
            "type": "histogram2dcontour",
            "colorbar": {
             "outlinewidth": 0,
             "ticks": ""
            },
            "colorscale": [
             [
              0.0,
              "#0d0887"
             ],
             [
              0.1111111111111111,
              "#46039f"
             ],
             [
              0.2222222222222222,
              "#7201a8"
             ],
             [
              0.3333333333333333,
              "#9c179e"
             ],
             [
              0.4444444444444444,
              "#bd3786"
             ],
             [
              0.5555555555555556,
              "#d8576b"
             ],
             [
              0.6666666666666666,
              "#ed7953"
             ],
             [
              0.7777777777777778,
              "#fb9f3a"
             ],
             [
              0.8888888888888888,
              "#fdca26"
             ],
             [
              1.0,
              "#f0f921"
             ]
            ]
           }
          ],
          "choropleth": [
           {
            "type": "choropleth",
            "colorbar": {
             "outlinewidth": 0,
             "ticks": ""
            }
           }
          ],
          "histogram2d": [
           {
            "type": "histogram2d",
            "colorbar": {
             "outlinewidth": 0,
             "ticks": ""
            },
            "colorscale": [
             [
              0.0,
              "#0d0887"
             ],
             [
              0.1111111111111111,
              "#46039f"
             ],
             [
              0.2222222222222222,
              "#7201a8"
             ],
             [
              0.3333333333333333,
              "#9c179e"
             ],
             [
              0.4444444444444444,
              "#bd3786"
             ],
             [
              0.5555555555555556,
              "#d8576b"
             ],
             [
              0.6666666666666666,
              "#ed7953"
             ],
             [
              0.7777777777777778,
              "#fb9f3a"
             ],
             [
              0.8888888888888888,
              "#fdca26"
             ],
             [
              1.0,
              "#f0f921"
             ]
            ]
           }
          ],
          "heatmap": [
           {
            "type": "heatmap",
            "colorbar": {
             "outlinewidth": 0,
             "ticks": ""
            },
            "colorscale": [
             [
              0.0,
              "#0d0887"
             ],
             [
              0.1111111111111111,
              "#46039f"
             ],
             [
              0.2222222222222222,
              "#7201a8"
             ],
             [
              0.3333333333333333,
              "#9c179e"
             ],
             [
              0.4444444444444444,
              "#bd3786"
             ],
             [
              0.5555555555555556,
              "#d8576b"
             ],
             [
              0.6666666666666666,
              "#ed7953"
             ],
             [
              0.7777777777777778,
              "#fb9f3a"
             ],
             [
              0.8888888888888888,
              "#fdca26"
             ],
             [
              1.0,
              "#f0f921"
             ]
            ]
           }
          ],
          "contourcarpet": [
           {
            "type": "contourcarpet",
            "colorbar": {
             "outlinewidth": 0,
             "ticks": ""
            }
           }
          ],
          "contour": [
           {
            "type": "contour",
            "colorbar": {
             "outlinewidth": 0,
             "ticks": ""
            },
            "colorscale": [
             [
              0.0,
              "#0d0887"
             ],
             [
              0.1111111111111111,
              "#46039f"
             ],
             [
              0.2222222222222222,
              "#7201a8"
             ],
             [
              0.3333333333333333,
              "#9c179e"
             ],
             [
              0.4444444444444444,
              "#bd3786"
             ],
             [
              0.5555555555555556,
              "#d8576b"
             ],
             [
              0.6666666666666666,
              "#ed7953"
             ],
             [
              0.7777777777777778,
              "#fb9f3a"
             ],
             [
              0.8888888888888888,
              "#fdca26"
             ],
             [
              1.0,
              "#f0f921"
             ]
            ]
           }
          ],
          "surface": [
           {
            "type": "surface",
            "colorbar": {
             "outlinewidth": 0,
             "ticks": ""
            },
            "colorscale": [
             [
              0.0,
              "#0d0887"
             ],
             [
              0.1111111111111111,
              "#46039f"
             ],
             [
              0.2222222222222222,
              "#7201a8"
             ],
             [
              0.3333333333333333,
              "#9c179e"
             ],
             [
              0.4444444444444444,
              "#bd3786"
             ],
             [
              0.5555555555555556,
              "#d8576b"
             ],
             [
              0.6666666666666666,
              "#ed7953"
             ],
             [
              0.7777777777777778,
              "#fb9f3a"
             ],
             [
              0.8888888888888888,
              "#fdca26"
             ],
             [
              1.0,
              "#f0f921"
             ]
            ]
           }
          ],
          "mesh3d": [
           {
            "type": "mesh3d",
            "colorbar": {
             "outlinewidth": 0,
             "ticks": ""
            }
           }
          ],
          "scatter": [
           {
            "fillpattern": {
             "fillmode": "overlay",
             "size": 10,
             "solidity": 0.2
            },
            "type": "scatter"
           }
          ],
          "parcoords": [
           {
            "type": "parcoords",
            "line": {
             "colorbar": {
              "outlinewidth": 0,
              "ticks": ""
             }
            }
           }
          ],
          "scatterpolargl": [
           {
            "type": "scatterpolargl",
            "marker": {
             "colorbar": {
              "outlinewidth": 0,
              "ticks": ""
             }
            }
           }
          ],
          "bar": [
           {
            "error_x": {
             "color": "#2a3f5f"
            },
            "error_y": {
             "color": "#2a3f5f"
            },
            "marker": {
             "line": {
              "color": "#E5ECF6",
              "width": 0.5
             },
             "pattern": {
              "fillmode": "overlay",
              "size": 10,
              "solidity": 0.2
             }
            },
            "type": "bar"
           }
          ],
          "scattergeo": [
           {
            "type": "scattergeo",
            "marker": {
             "colorbar": {
              "outlinewidth": 0,
              "ticks": ""
             }
            }
           }
          ],
          "scatterpolar": [
           {
            "type": "scatterpolar",
            "marker": {
             "colorbar": {
              "outlinewidth": 0,
              "ticks": ""
             }
            }
           }
          ],
          "histogram": [
           {
            "marker": {
             "pattern": {
              "fillmode": "overlay",
              "size": 10,
              "solidity": 0.2
             }
            },
            "type": "histogram"
           }
          ],
          "scattergl": [
           {
            "type": "scattergl",
            "marker": {
             "colorbar": {
              "outlinewidth": 0,
              "ticks": ""
             }
            }
           }
          ],
          "scatter3d": [
           {
            "type": "scatter3d",
            "line": {
             "colorbar": {
              "outlinewidth": 0,
              "ticks": ""
             }
            },
            "marker": {
             "colorbar": {
              "outlinewidth": 0,
              "ticks": ""
             }
            }
           }
          ],
          "scattermap": [
           {
            "type": "scattermap",
            "marker": {
             "colorbar": {
              "outlinewidth": 0,
              "ticks": ""
             }
            }
           }
          ],
          "scattermapbox": [
           {
            "type": "scattermapbox",
            "marker": {
             "colorbar": {
              "outlinewidth": 0,
              "ticks": ""
             }
            }
           }
          ],
          "scatterternary": [
           {
            "type": "scatterternary",
            "marker": {
             "colorbar": {
              "outlinewidth": 0,
              "ticks": ""
             }
            }
           }
          ],
          "scattercarpet": [
           {
            "type": "scattercarpet",
            "marker": {
             "colorbar": {
              "outlinewidth": 0,
              "ticks": ""
             }
            }
           }
          ],
          "carpet": [
           {
            "aaxis": {
             "endlinecolor": "#2a3f5f",
             "gridcolor": "white",
             "linecolor": "white",
             "minorgridcolor": "white",
             "startlinecolor": "#2a3f5f"
            },
            "baxis": {
             "endlinecolor": "#2a3f5f",
             "gridcolor": "white",
             "linecolor": "white",
             "minorgridcolor": "white",
             "startlinecolor": "#2a3f5f"
            },
            "type": "carpet"
           }
          ],
          "table": [
           {
            "cells": {
             "fill": {
              "color": "#EBF0F8"
             },
             "line": {
              "color": "white"
             }
            },
            "header": {
             "fill": {
              "color": "#C8D4E3"
             },
             "line": {
              "color": "white"
             }
            },
            "type": "table"
           }
          ],
          "barpolar": [
           {
            "marker": {
             "line": {
              "color": "#E5ECF6",
              "width": 0.5
             },
             "pattern": {
              "fillmode": "overlay",
              "size": 10,
              "solidity": 0.2
             }
            },
            "type": "barpolar"
           }
          ],
          "pie": [
           {
            "automargin": true,
            "type": "pie"
           }
          ]
         },
         "layout": {
          "autotypenumbers": "strict",
          "colorway": [
           "#636efa",
           "#EF553B",
           "#00cc96",
           "#ab63fa",
           "#FFA15A",
           "#19d3f3",
           "#FF6692",
           "#B6E880",
           "#FF97FF",
           "#FECB52"
          ],
          "font": {
           "color": "#2a3f5f"
          },
          "hovermode": "closest",
          "hoverlabel": {
           "align": "left"
          },
          "paper_bgcolor": "white",
          "plot_bgcolor": "#E5ECF6",
          "polar": {
           "bgcolor": "#E5ECF6",
           "angularaxis": {
            "gridcolor": "white",
            "linecolor": "white",
            "ticks": ""
           },
           "radialaxis": {
            "gridcolor": "white",
            "linecolor": "white",
            "ticks": ""
           }
          },
          "ternary": {
           "bgcolor": "#E5ECF6",
           "aaxis": {
            "gridcolor": "white",
            "linecolor": "white",
            "ticks": ""
           },
           "baxis": {
            "gridcolor": "white",
            "linecolor": "white",
            "ticks": ""
           },
           "caxis": {
            "gridcolor": "white",
            "linecolor": "white",
            "ticks": ""
           }
          },
          "coloraxis": {
           "colorbar": {
            "outlinewidth": 0,
            "ticks": ""
           }
          },
          "colorscale": {
           "sequential": [
            [
             0.0,
             "#0d0887"
            ],
            [
             0.1111111111111111,
             "#46039f"
            ],
            [
             0.2222222222222222,
             "#7201a8"
            ],
            [
             0.3333333333333333,
             "#9c179e"
            ],
            [
             0.4444444444444444,
             "#bd3786"
            ],
            [
             0.5555555555555556,
             "#d8576b"
            ],
            [
             0.6666666666666666,
             "#ed7953"
            ],
            [
             0.7777777777777778,
             "#fb9f3a"
            ],
            [
             0.8888888888888888,
             "#fdca26"
            ],
            [
             1.0,
             "#f0f921"
            ]
           ],
           "sequentialminus": [
            [
             0.0,
             "#0d0887"
            ],
            [
             0.1111111111111111,
             "#46039f"
            ],
            [
             0.2222222222222222,
             "#7201a8"
            ],
            [
             0.3333333333333333,
             "#9c179e"
            ],
            [
             0.4444444444444444,
             "#bd3786"
            ],
            [
             0.5555555555555556,
             "#d8576b"
            ],
            [
             0.6666666666666666,
             "#ed7953"
            ],
            [
             0.7777777777777778,
             "#fb9f3a"
            ],
            [
             0.8888888888888888,
             "#fdca26"
            ],
            [
             1.0,
             "#f0f921"
            ]
           ],
           "diverging": [
            [
             0,
             "#8e0152"
            ],
            [
             0.1,
             "#c51b7d"
            ],
            [
             0.2,
             "#de77ae"
            ],
            [
             0.3,
             "#f1b6da"
            ],
            [
             0.4,
             "#fde0ef"
            ],
            [
             0.5,
             "#f7f7f7"
            ],
            [
             0.6,
             "#e6f5d0"
            ],
            [
             0.7,
             "#b8e186"
            ],
            [
             0.8,
             "#7fbc41"
            ],
            [
             0.9,
             "#4d9221"
            ],
            [
             1,
             "#276419"
            ]
           ]
          },
          "xaxis": {
           "gridcolor": "white",
           "linecolor": "white",
           "ticks": "",
           "title": {
            "standoff": 15
           },
           "zerolinecolor": "white",
           "automargin": true,
           "zerolinewidth": 2
          },
          "yaxis": {
           "gridcolor": "white",
           "linecolor": "white",
           "ticks": "",
           "title": {
            "standoff": 15
           },
           "zerolinecolor": "white",
           "automargin": true,
           "zerolinewidth": 2
          },
          "scene": {
           "xaxis": {
            "backgroundcolor": "#E5ECF6",
            "gridcolor": "white",
            "linecolor": "white",
            "showbackground": true,
            "ticks": "",
            "zerolinecolor": "white",
            "gridwidth": 2
           },
           "yaxis": {
            "backgroundcolor": "#E5ECF6",
            "gridcolor": "white",
            "linecolor": "white",
            "showbackground": true,
            "ticks": "",
            "zerolinecolor": "white",
            "gridwidth": 2
           },
           "zaxis": {
            "backgroundcolor": "#E5ECF6",
            "gridcolor": "white",
            "linecolor": "white",
            "showbackground": true,
            "ticks": "",
            "zerolinecolor": "white",
            "gridwidth": 2
           }
          },
          "shapedefaults": {
           "line": {
            "color": "#2a3f5f"
           }
          },
          "annotationdefaults": {
           "arrowcolor": "#2a3f5f",
           "arrowhead": 0,
           "arrowwidth": 1
          },
          "geo": {
           "bgcolor": "white",
           "landcolor": "#E5ECF6",
           "subunitcolor": "white",
           "showland": true,
           "showlakes": true,
           "lakecolor": "white"
          },
          "title": {
           "x": 0.05
          },
          "mapbox": {
           "style": "light"
          }
         }
        },
        "xaxis": {
         "anchor": "y",
         "domain": [
          0.0,
          0.45
         ],
         "title": {
          "text": "Epoch"
         }
        },
        "yaxis": {
         "anchor": "x",
         "domain": [
          0.0,
          1.0
         ],
         "title": {
          "text": "Root Mean Squared Error"
         },
         "range": [
          2.996337699890137,
          39.71609878540039
         ]
        },
        "xaxis2": {
         "anchor": "y2",
         "domain": [
          0.55,
          1.0
         ],
         "title": {
          "text": "TRIP_MILES"
         }
        },
        "yaxis2": {
         "anchor": "x2",
         "domain": [
          0.0,
          1.0
         ],
         "title": {
          "text": "FARE"
         }
        },
        "annotations": [
         {
          "font": {
           "size": 16
          },
          "showarrow": false,
          "text": "Loss Curve",
          "x": 0.225,
          "xanchor": "center",
          "xref": "paper",
          "y": 1.0,
          "yanchor": "bottom",
          "yref": "paper"
         },
         {
          "font": {
           "size": 16
          },
          "showarrow": false,
          "text": "Model Plot",
          "x": 0.775,
          "xanchor": "center",
          "xref": "paper",
          "y": 1.0,
          "yanchor": "bottom",
          "yref": "paper"
         }
        ]
       },
       "config": {
        "plotlyServerURL": "https://plot.ly"
       }
      }
     },
     "metadata": {},
     "output_type": "display_data"
    }
   ],
   "execution_count": 18
  },
  {
   "metadata": {
    "ExecuteTime": {
     "end_time": "2025-06-16T10:39:41.317469Z",
     "start_time": "2025-06-16T10:39:41.301385Z"
    }
   },
   "cell_type": "code",
   "source": [
    "#@title Double-click to view answers for training model with one feature\n",
    "\n",
    "# How many epochs did it take to converge on the final model?\n",
    "# -----------------------------------------------------------------------------\n",
    "answer = \"\"\"\n",
    "Use the loss curve to see where the loss begins to level off during training.\n",
    "\n",
    "With this set of hyperparameters:\n",
    "\n",
    "  learning_rate = 0.001\n",
    "  epochs = 20\n",
    "  batch_size = 50\n",
    "\n",
    "it takes about 5 epochs for the training run to converge to the final model.\n",
    "\"\"\"\n",
    "print(answer)\n",
    "\n",
    "# How well does the model fit the sample data?\n",
    "# -----------------------------------------------------------------------------\n",
    "answer = '''\n",
    "It appears from the model plot that the model fits the sample data fairly well.\n",
    "'''\n",
    "print(answer)"
   ],
   "id": "f95335cd47dbe6a8",
   "outputs": [
    {
     "name": "stdout",
     "output_type": "stream",
     "text": [
      "\n",
      "Use the loss curve to see where the loss begins to level off during training.\n",
      "\n",
      "With this set of hyperparameters:\n",
      "\n",
      "  learning_rate = 0.001\n",
      "  epochs = 20\n",
      "  batch_size = 50\n",
      "\n",
      "it takes about 5 epochs for the training run to converge to the final model.\n",
      "\n",
      "\n",
      "It appears from the model plot that the model fits the sample data fairly well.\n",
      "\n"
     ]
    }
   ],
   "execution_count": 16
  },
  {
   "metadata": {
    "ExecuteTime": {
     "end_time": "2025-06-16T11:14:50.855773Z",
     "start_time": "2025-06-16T11:14:44.906841Z"
    }
   },
   "cell_type": "code",
   "source": [
    "#@title Code - Experiment 2\n",
    "\n",
    "# The following variables are the hyperparameters.\n",
    "# TODO - Adjust these hyperparameters to see how they impact a training run.\n",
    "learning_rate = 0.001\n",
    "epochs = 20\n",
    "batch_size = 50\n",
    "\n",
    "# Specify the feature and the label.\n",
    "features = ['TRIP_MILES']\n",
    "label = 'FARE'\n",
    "\n",
    "model_1 = run_experiment(training_df, features, label, learning_rate, epochs, batch_size)"
   ],
   "id": "5531af5dd2632be3",
   "outputs": [
    {
     "name": "stdout",
     "output_type": "stream",
     "text": [
      "INFO: starting training experiment with features=['TRIP_MILES'] and label=FARE\n",
      "\n",
      "Epoch 1/20\n",
      "\u001B[1m634/634\u001B[0m \u001B[32m━━━━━━━━━━━━━━━━━━━━\u001B[0m\u001B[37m\u001B[0m \u001B[1m0s\u001B[0m 433us/step - loss: 436.0781 - root_mean_squared_error: 20.8572\n",
      "Epoch 2/20\n",
      "\u001B[1m634/634\u001B[0m \u001B[32m━━━━━━━━━━━━━━━━━━━━\u001B[0m\u001B[37m\u001B[0m \u001B[1m0s\u001B[0m 434us/step - loss: 190.9738 - root_mean_squared_error: 13.7868\n",
      "Epoch 3/20\n",
      "\u001B[1m634/634\u001B[0m \u001B[32m━━━━━━━━━━━━━━━━━━━━\u001B[0m\u001B[37m\u001B[0m \u001B[1m0s\u001B[0m 440us/step - loss: 55.0162 - root_mean_squared_error: 7.3775\n",
      "Epoch 4/20\n",
      "\u001B[1m634/634\u001B[0m \u001B[32m━━━━━━━━━━━━━━━━━━━━\u001B[0m\u001B[37m\u001B[0m \u001B[1m0s\u001B[0m 430us/step - loss: 19.9084 - root_mean_squared_error: 4.4539\n",
      "Epoch 5/20\n",
      "\u001B[1m634/634\u001B[0m \u001B[32m━━━━━━━━━━━━━━━━━━━━\u001B[0m\u001B[37m\u001B[0m \u001B[1m0s\u001B[0m 440us/step - loss: 16.4857 - root_mean_squared_error: 4.0578\n",
      "Epoch 6/20\n",
      "\u001B[1m634/634\u001B[0m \u001B[32m━━━━━━━━━━━━━━━━━━━━\u001B[0m\u001B[37m\u001B[0m \u001B[1m0s\u001B[0m 427us/step - loss: 16.7888 - root_mean_squared_error: 4.0918\n",
      "Epoch 7/20\n",
      "\u001B[1m634/634\u001B[0m \u001B[32m━━━━━━━━━━━━━━━━━━━━\u001B[0m\u001B[37m\u001B[0m \u001B[1m0s\u001B[0m 429us/step - loss: 13.8786 - root_mean_squared_error: 3.7225\n",
      "Epoch 8/20\n",
      "\u001B[1m634/634\u001B[0m \u001B[32m━━━━━━━━━━━━━━━━━━━━\u001B[0m\u001B[37m\u001B[0m \u001B[1m0s\u001B[0m 426us/step - loss: 14.0682 - root_mean_squared_error: 3.7373\n",
      "Epoch 9/20\n",
      "\u001B[1m634/634\u001B[0m \u001B[32m━━━━━━━━━━━━━━━━━━━━\u001B[0m\u001B[37m\u001B[0m \u001B[1m0s\u001B[0m 427us/step - loss: 14.4449 - root_mean_squared_error: 3.7964\n",
      "Epoch 10/20\n",
      "\u001B[1m634/634\u001B[0m \u001B[32m━━━━━━━━━━━━━━━━━━━━\u001B[0m\u001B[37m\u001B[0m \u001B[1m0s\u001B[0m 426us/step - loss: 13.8019 - root_mean_squared_error: 3.7021\n",
      "Epoch 11/20\n",
      "\u001B[1m634/634\u001B[0m \u001B[32m━━━━━━━━━━━━━━━━━━━━\u001B[0m\u001B[37m\u001B[0m \u001B[1m0s\u001B[0m 423us/step - loss: 13.8091 - root_mean_squared_error: 3.7058\n",
      "Epoch 12/20\n",
      "\u001B[1m634/634\u001B[0m \u001B[32m━━━━━━━━━━━━━━━━━━━━\u001B[0m\u001B[37m\u001B[0m \u001B[1m0s\u001B[0m 424us/step - loss: 13.8685 - root_mean_squared_error: 3.7186\n",
      "Epoch 13/20\n",
      "\u001B[1m634/634\u001B[0m \u001B[32m━━━━━━━━━━━━━━━━━━━━\u001B[0m\u001B[37m\u001B[0m \u001B[1m0s\u001B[0m 423us/step - loss: 14.6291 - root_mean_squared_error: 3.8194\n",
      "Epoch 14/20\n",
      "\u001B[1m634/634\u001B[0m \u001B[32m━━━━━━━━━━━━━━━━━━━━\u001B[0m\u001B[37m\u001B[0m \u001B[1m0s\u001B[0m 429us/step - loss: 13.9328 - root_mean_squared_error: 3.7300\n",
      "Epoch 15/20\n",
      "\u001B[1m634/634\u001B[0m \u001B[32m━━━━━━━━━━━━━━━━━━━━\u001B[0m\u001B[37m\u001B[0m \u001B[1m0s\u001B[0m 428us/step - loss: 13.9092 - root_mean_squared_error: 3.7229\n",
      "Epoch 16/20\n",
      "\u001B[1m634/634\u001B[0m \u001B[32m━━━━━━━━━━━━━━━━━━━━\u001B[0m\u001B[37m\u001B[0m \u001B[1m0s\u001B[0m 425us/step - loss: 13.1064 - root_mean_squared_error: 3.6143\n",
      "Epoch 17/20\n",
      "\u001B[1m634/634\u001B[0m \u001B[32m━━━━━━━━━━━━━━━━━━━━\u001B[0m\u001B[37m\u001B[0m \u001B[1m0s\u001B[0m 428us/step - loss: 13.8121 - root_mean_squared_error: 3.7114\n",
      "Epoch 18/20\n",
      "\u001B[1m634/634\u001B[0m \u001B[32m━━━━━━━━━━━━━━━━━━━━\u001B[0m\u001B[37m\u001B[0m \u001B[1m0s\u001B[0m 431us/step - loss: 13.5654 - root_mean_squared_error: 3.6809\n",
      "Epoch 19/20\n",
      "\u001B[1m634/634\u001B[0m \u001B[32m━━━━━━━━━━━━━━━━━━━━\u001B[0m\u001B[37m\u001B[0m \u001B[1m0s\u001B[0m 429us/step - loss: 14.2031 - root_mean_squared_error: 3.7613\n",
      "Epoch 20/20\n",
      "\u001B[1m634/634\u001B[0m \u001B[32m━━━━━━━━━━━━━━━━━━━━\u001B[0m\u001B[37m\u001B[0m \u001B[1m0s\u001B[0m 428us/step - loss: 14.0262 - root_mean_squared_error: 3.7373\n",
      "\n",
      "SUCCESS: training experiment complete\n",
      "\n",
      "--------------------------------------------------------------------------------\n",
      "|                                  MODEL INFO                                  |\n",
      "--------------------------------------------------------------------------------\n",
      "Weight for feature[TRIP_MILES]: 2.285\n",
      "Bias: 4.970\n",
      "\n",
      "FARE = 2.285 * TRIP_MILES + 4.970\n",
      "\n"
     ]
    },
    {
     "data": {
      "application/vnd.plotly.v1+json": {
       "data": [
        {
         "hovertemplate": "TRIP_MILES=%{x}<br>FARE=%{y}<extra></extra>",
         "legendgroup": "",
         "marker": {
          "color": "#636efa",
          "symbol": "circle"
         },
         "mode": "markers",
         "name": "",
         "orientation": "v",
         "showlegend": false,
         "x": {
          "dtype": "f8",
          "bdata": "MzMzMzMzA0C4HoXrUTgoQAAAAAAAgD1A4XoUrkehMUDNzMzMzMwQQK5H4XoUriRAcT0K16Nw5T+uR+F6FK4gQHsUrkfheixAKVyPwvUoKEBmZmZmZmYIQArXo3A9SjFAKVyPwvXoOUDD9Shcj8LxP2ZmZmZmZv4/cT0K16OwOUBSuB6F61ECQPYoXI/C9QRAZmZmZmZmOkAzMzMzMzPjP5qZmZmZmfk/ZmZmZmZmLUApXI/C9SgSQGZmZmZmZgZApHA9Ctej4D/NzMzMzMz0PzMzMzMzszFAMzMzMzMzA0CPwvUoXI8AQHE9Ctej8DxAZmZmZmZm/j8zMzMzM7MxQClcj8L1qCdA16NwPQrX8z9xPQrXo3D5P7gehetRuDBAAAAAAACAOUDD9Shcj8LtP2ZmZmZmZvY/zczMzMwMMkBmZmZmZmbmP3sUrkfhOjFAZmZmZmZmFkDD9Shcj0IjQJqZmZmZmek/H4XrUbge7T9cj8L1KFwXQBSuR+F6FPI/cT0K16NwHEC4HoXrUbgAQAAAAAAAAOg/H4XrUbge/T8AAAAAAADwPzMzMzMzM/s/w/UoXI9CJkDNzMzMzMw/QM3MzMzMzCZAw/UoXI/C7T/D9Shcj8L5P+xRuB6F6+k/SOF6FK5HEkCF61G4HoUBQNejcD0KVyhAAAAAAAAA+D/NzMzMzEwxQMP1KFyPwi5AmpmZmZmZLEAzMzMzMzMxQDMzMzMzMzFAZmZmZmZm9j8AAAAAAIAgQGZmZmZmZi5AmpmZmZmZ+T9I4XoUrkfxPxSuR+F6FBhAcT0K16NwJUAzMzMzMzMnQHE9CtejcCFA9ihcj8L1+D/hehSuR+HyPwrXo3A9CvM/9ihcj8L1MEAzMzMzMzPzP83MzMzMzPg/pHA9Ctej9D/NzMzMzMzsP2ZmZmZmZhBAKVyPwvVoMUCamZmZmZkmQArXo3A9Cvs/zczMzMxMMkAzMzMzMzMZQK5H4XoUrv8/AAAAAAAAAECamZmZmZkBQAAAAAAAAPg/H4XrUbieNEBmZmZmZmbuPwAAAAAAADVAcT0K16NwJEBmZmZmZuYxQOF6FK5H4eI/16NwPQrXL0AAAAAAAAAUQM3MzMzMzPQ/H4XrUbgeCUDhehSuR+ErQFyPwvUoXO8/ZmZmZmZmMUDhehSuR+EjQEjhehSuRy1AzczMzMzMAEAAAAAAAAAcQM3MzMzMzCFAhetRuB6FE0AzMzMzM7MxQDMzMzMzMwNAw/UoXI8CNEAAAAAAAAA3QDMzMzMzMzdAAAAAAAAA8D8AAAAAAIAxQGZmZmZmZh5AAAAAAAAAGEBmZmZmZmYQQFyPwvUoXCtAmpmZmZlZMUDNzMzMzMwnQM3MzMzMzAhAMzMzMzMzC0BmZmZmZmYeQAAAAAAAgEZAmpmZmZmZD0DNzMzMzMz8P5qZmZmZGTJAZmZmZmZm/j/NzMzMzEwxQIXrUbgehSFAMzMzMzMz8z/sUbgehaswQHsUrkfheuQ/MzMzMzMzC0BSuB6F61ErQAAAAAAAAARAZmZmZmZmJkC4HoXrUbgkQEjhehSuhzBAmpmZmZmZAUDNzMzMzEwyQGZmZmZm5jJAAAAAAACAMUAAAAAAAAAvQM3MzMzMzDFAXI/C9Shc+z8AAAAAAAAtQMP1KFyPwi9AAAAAAACAJ0DXo3A9ClcvQM3MzMzMzOQ/hetRuB6FJUBI4XoUrkcdQAAAAAAAAPQ/XI/C9Shc5z9cj8L1KBwxQB+F61G4Hg1AZmZmZmZmJ0DNzMzMzEwyQGZmZmZmZiBAmpmZmZkZMkAzMzMzMzP7P4XrUbgehQlAexSuR+F6E0BI4XoUrkf1P1yPwvUoXDBAMzMzMzMz4z8zMzMzMzPzP2ZmZmZmZiJAmpmZmZmZMUBSuB6F61EiQLgehetRuBBApHA9CtcjLUAUrkfhepQmQNejcD0K1wdAZmZmZmbmJUAzMzMzM3MxQFyPwvUoXBFAMzMzMzMzMUBxPQrXo3ABQHsUrkfheuw/MzMzMzOzMECuR+F6FK4FQM3MzMzMDEBAAAAAAAAAFkBmZmZmZuYnQGZmZmZmZhJAcT0K16Nw7T9mZmZmZmYOQGZmZmZm5jFASOF6FK5H+T/D9Shcj8IxQA=="
         },
         "xaxis": "x2",
         "y": {
          "dtype": "f8",
          "bdata": "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"
         },
         "yaxis": "y2",
         "type": "scatter"
        },
        {
         "hovertemplate": "TRIP_MILES=%{x}<br>FARE_PREDICTED=%{y}<extra></extra>",
         "legendgroup": "",
         "line": {
          "color": "#ff0000",
          "dash": "solid",
          "width": 3
         },
         "marker": {
          "symbol": "circle"
         },
         "mode": "lines",
         "name": "",
         "orientation": "v",
         "showlegend": false,
         "x": {
          "dtype": "f8",
          "bdata": "MzMzMzMzA0C4HoXrUTgoQAAAAAAAgD1A4XoUrkehMUDNzMzMzMwQQK5H4XoUriRAcT0K16Nw5T+uR+F6FK4gQHsUrkfheixAKVyPwvUoKEBmZmZmZmYIQArXo3A9SjFAKVyPwvXoOUDD9Shcj8LxP2ZmZmZmZv4/cT0K16OwOUBSuB6F61ECQPYoXI/C9QRAZmZmZmZmOkAzMzMzMzPjP5qZmZmZmfk/ZmZmZmZmLUApXI/C9SgSQGZmZmZmZgZApHA9Ctej4D/NzMzMzMz0PzMzMzMzszFAMzMzMzMzA0CPwvUoXI8AQHE9Ctej8DxAZmZmZmZm/j8zMzMzM7MxQClcj8L1qCdA16NwPQrX8z9xPQrXo3D5P7gehetRuDBAAAAAAACAOUDD9Shcj8LtP2ZmZmZmZvY/zczMzMwMMkBmZmZmZmbmP3sUrkfhOjFAZmZmZmZmFkDD9Shcj0IjQJqZmZmZmek/H4XrUbge7T9cj8L1KFwXQBSuR+F6FPI/cT0K16NwHEC4HoXrUbgAQAAAAAAAAOg/H4XrUbge/T8AAAAAAADwPzMzMzMzM/s/w/UoXI9CJkDNzMzMzMw/QM3MzMzMzCZAw/UoXI/C7T/D9Shcj8L5P+xRuB6F6+k/SOF6FK5HEkCF61G4HoUBQNejcD0KVyhAAAAAAAAA+D/NzMzMzEwxQMP1KFyPwi5AmpmZmZmZLEAzMzMzMzMxQDMzMzMzMzFAZmZmZmZm9j8AAAAAAIAgQGZmZmZmZi5AmpmZmZmZ+T9I4XoUrkfxPxSuR+F6FBhAcT0K16NwJUAzMzMzMzMnQHE9CtejcCFA9ihcj8L1+D/hehSuR+HyPwrXo3A9CvM/9ihcj8L1MEAzMzMzMzPzP83MzMzMzPg/pHA9Ctej9D/NzMzMzMzsP2ZmZmZmZhBAKVyPwvVoMUCamZmZmZkmQArXo3A9Cvs/zczMzMxMMkAzMzMzMzMZQK5H4XoUrv8/AAAAAAAAAECamZmZmZkBQAAAAAAAAPg/H4XrUbieNEBmZmZmZmbuPwAAAAAAADVAcT0K16NwJEBmZmZmZuYxQOF6FK5H4eI/16NwPQrXL0AAAAAAAAAUQM3MzMzMzPQ/H4XrUbgeCUDhehSuR+ErQFyPwvUoXO8/ZmZmZmZmMUDhehSuR+EjQEjhehSuRy1AzczMzMzMAEAAAAAAAAAcQM3MzMzMzCFAhetRuB6FE0AzMzMzM7MxQDMzMzMzMwNAw/UoXI8CNEAAAAAAAAA3QDMzMzMzMzdAAAAAAAAA8D8AAAAAAIAxQGZmZmZmZh5AAAAAAAAAGEBmZmZmZmYQQFyPwvUoXCtAmpmZmZlZMUDNzMzMzMwnQM3MzMzMzAhAMzMzMzMzC0BmZmZmZmYeQAAAAAAAgEZAmpmZmZmZD0DNzMzMzMz8P5qZmZmZGTJAZmZmZmZm/j/NzMzMzEwxQIXrUbgehSFAMzMzMzMz8z/sUbgehaswQHsUrkfheuQ/MzMzMzMzC0BSuB6F61ErQAAAAAAAAARAZmZmZmZmJkC4HoXrUbgkQEjhehSuhzBAmpmZmZmZAUDNzMzMzEwyQGZmZmZm5jJAAAAAAACAMUAAAAAAAAAvQM3MzMzMzDFAXI/C9Shc+z8AAAAAAAAtQMP1KFyPwi9AAAAAAACAJ0DXo3A9ClcvQM3MzMzMzOQ/hetRuB6FJUBI4XoUrkcdQAAAAAAAAPQ/XI/C9Shc5z9cj8L1KBwxQB+F61G4Hg1AZmZmZmZmJ0DNzMzMzEwyQGZmZmZmZiBAmpmZmZkZMkAzMzMzMzP7P4XrUbgehQlAexSuR+F6E0BI4XoUrkf1P1yPwvUoXDBAMzMzMzMz4z8zMzMzMzPzP2ZmZmZmZiJAmpmZmZmZMUBSuB6F61EiQLgehetRuBBApHA9CtcjLUAUrkfhepQmQNejcD0K1wdAZmZmZmbmJUAzMzMzM3MxQFyPwvUoXBFAMzMzMzMzMUBxPQrXo3ABQHsUrkfheuw/MzMzMzOzMECuR+F6FK4FQM3MzMzMDEBAAAAAAAAAFkBmZmZmZuYnQGZmZmZmZhJAcT0K16Nw7T9mZmZmZmYOQGZmZmZm5jFASOF6FK5H+T/D9Shcj8IxQA=="
         },
         "xaxis": "x2",
         "y": {
          "dtype": "f8",
          "bdata": "mpmZ2YjoJEDC9agiclJAQAAAgB6iGFJAFK7Hsx+hRkDNzMzkoiItQOF6FERkmTxAw/UocKwAGkDhehTMVQc4QNejcD2AwUJASOF6oKtJQEAzMzNBEuEnQKRwvUWrPUZASOG6BpILUEAUrkfFUgYeQJqZmZ2BnyJAC9cjqMnWT0CQwvUO1GckQK5H4W7y6SVAMzMzgzxTUEDNzMyc3VwZQGZmZkZ9QCFAMzMztA5IQ0CPwvWcdLAuQDMzM6OOvCZAkML1GKihGEBmZmbe8cIfQDMzM46ZtUZAmpmZ2YjoJEB6FK55amYjQIXr0bS6xlFAmpmZnYGfIkAzMzOOmbVGQEjh+riKAEBAuB6Fu4k2H0DD9SjuyTQhQIXrUZzvlkVAAAAAxTWfT0AK16NcGmEcQJqZmWF6ViBAzcxM0vobR0CamZmB4EYaQK5HYUEeLEZAMzMzk1vEMUApXI+HBfo6QGZmZmbjMBtAexSu+0wyHEDhehS2w1AyQKRwPSYgNR5AhetRGcA3NUDC9Sgq0X0jQAAAAPThuxpAexSu2+ZBIkAAAAAw6QQdQM3MzLh+tSFAKVyPYZBnPkBnZmZHBmlTQM3MzIiFBT9ACtejXBphHEAK16OeMEwhQK5H4RZKSBtAexSupY7TLkApXI+c0vIjQLgeBSf/Y0BAAAAA1HvLIEDNzMwbmEBGQBWuR5D3DkRAzczMQQ3TQkAzMzO/VyNGQDMzM79XI0ZAmpmZYXpWIEAAAAC/rtI3QDMzM4NQ2kNAZmZmRn1AIUA+CtezHsAdQKRwPdARujJAC9ej0LN3PUAzMzP7hno/QAvXo1il5ThA16Nw5a8RIUAK16OYIaoeQFK4HkmIwR5AXI/CrSPdRUCamZn57tgeQDMzM438BSFAH4XrLYurH0A0MzNL5hocQGZmZnKhrSxAj8J1TsVgRkCamZnPBMs+QClcj2DLqSFAzczMuRtlR0CamZmj4F0zQLgehV8c/SJAAAAAEIMUI0DNzMz0hf4jQAAAANR7yyBA7FG4t70LSkCamZm9548cQAAAAH7lekpAC9ejMjBTPEBmZmZHGvBGQIXrUex2RRlAuB6Ft+ysREAAAAA8V2UwQGZmZt7xwh9A9ihcW2BKKEAK16Mnv2lCQHA9Cs8b1hxAZmZmeNhdRkAUrkdfYa87QD4K16+BNkNAZmZmgoSJI0AAAAC0Zfc0QM3MzHLzTjlAKVyPKiMfMEAzMzOOmbVGQJqZmdmI6CRAKVwPtk5ZSUAAAAC67MNMQDMzM3Nt/kxAAAAAMOkEHUAAAADVGHtGQDMzMwtqVjZAAAAAeF6uMkBmZmZyoa0sQOF6FGqxHUJAmpkZSjhPRkBmZmaTBBVAQGZmZvqSGyhAmpmZUZd6KUAzMzMLalY2QAAAACee81pAzczMRh/+K0A0MzMrgCoiQJqZmQCbKkdAmpmZnYGfIkDNzMwbmEBGQFK4HgkM/ThAmpmZ+e7YHkC5HgVuT4hFQOxRuF54uhlAmpmZUZd6KUCQwvW91xdCQAAAAEyKXSVAZmZmFoSQPkCF61GcF6U8QHsULrlbX0VAzczM9IX+I0DNzMy5G2VHQGZmZuWdFEhAAAAA1Rh7RkAAAACZETJEQM3MzOrZ0kZAcD0KETLBIUAAAAD7jQ1DQBWuR185oURAAAAAEUjSP0C4HgXQy2NEQDMzMw/f0RlAUrgegRqPPUA+Ctc3m7I1QAAAAGzwTR9AcD0KkxSNGkDC9ag4BAlGQPYoXJdnkypAZmZmtAe1P0DNzMy5G2VHQGZmZmJutTdAmpmZAJsqR0DNzMy4frUhQClcjxThhChA16NwfkkZMEAfhev3kgQgQML1KIKhLUVAzczMnN1cGUCamZn57tgeQGZmZp51/jlAmpmZMVmYRkAfhevtDuc5QIXrUTQ8Cy1AH4Vr1QciQ0BH4XojK8U+QLgehdcqjydAZmZmR0L+PUAzM7OmeGxGQML1KLhxxi1AMzMzv1cjRkCG61FEH+cjQOxRuJp/AxxAMzMz8BWRRUBwPQqJQFMmQM3MTNLmlFNAAAAA2tqJMUAzM7PBpCNAQGZmZq6o9i5AwvUorLNJHEAzMzMbnU4rQGZmZkca8EZAH4XrlRYpIUApXI+SJsdGQA=="
         },
         "yaxis": "y2",
         "type": "scatter"
        },
        {
         "hovertemplate": "x=%{x}<br>y=%{y}<extra></extra>",
         "legendgroup": "",
         "line": {
          "color": "#ff0000",
          "dash": "solid",
          "width": 3
         },
         "marker": {
          "symbol": "circle"
         },
         "mode": "lines",
         "name": "",
         "orientation": "v",
         "showlegend": false,
         "x": {
          "dtype": "i1",
          "bdata": "AAECAwQFBgcICQoLDA0ODxAREhM="
         },
         "xaxis": "x",
         "y": {
          "dtype": "f8",
          "bdata": "AAAAAB0iM0AAAABAkmkoQAAAAGAv5xhAAAAAwFTLEEAAAACgMSsQQAAAAKCsag9AAAAAYDfADkAAAACgj1kOQAAAAADNIw5AAAAAIGAKDkAAAACA6/4NQAAAAADL+g1AAAAAgCn5DUAAAAAg8fcNQAAAAEAS+A1AAAAAgAb4DUAAAACAqfcNQAAAAICq9w1AAAAAgLb2DUAAAACgv/YNQA=="
         },
         "yaxis": "y",
         "type": "scatter"
        }
       ],
       "layout": {
        "template": {
         "data": {
          "histogram2dcontour": [
           {
            "type": "histogram2dcontour",
            "colorbar": {
             "outlinewidth": 0,
             "ticks": ""
            },
            "colorscale": [
             [
              0.0,
              "#0d0887"
             ],
             [
              0.1111111111111111,
              "#46039f"
             ],
             [
              0.2222222222222222,
              "#7201a8"
             ],
             [
              0.3333333333333333,
              "#9c179e"
             ],
             [
              0.4444444444444444,
              "#bd3786"
             ],
             [
              0.5555555555555556,
              "#d8576b"
             ],
             [
              0.6666666666666666,
              "#ed7953"
             ],
             [
              0.7777777777777778,
              "#fb9f3a"
             ],
             [
              0.8888888888888888,
              "#fdca26"
             ],
             [
              1.0,
              "#f0f921"
             ]
            ]
           }
          ],
          "choropleth": [
           {
            "type": "choropleth",
            "colorbar": {
             "outlinewidth": 0,
             "ticks": ""
            }
           }
          ],
          "histogram2d": [
           {
            "type": "histogram2d",
            "colorbar": {
             "outlinewidth": 0,
             "ticks": ""
            },
            "colorscale": [
             [
              0.0,
              "#0d0887"
             ],
             [
              0.1111111111111111,
              "#46039f"
             ],
             [
              0.2222222222222222,
              "#7201a8"
             ],
             [
              0.3333333333333333,
              "#9c179e"
             ],
             [
              0.4444444444444444,
              "#bd3786"
             ],
             [
              0.5555555555555556,
              "#d8576b"
             ],
             [
              0.6666666666666666,
              "#ed7953"
             ],
             [
              0.7777777777777778,
              "#fb9f3a"
             ],
             [
              0.8888888888888888,
              "#fdca26"
             ],
             [
              1.0,
              "#f0f921"
             ]
            ]
           }
          ],
          "heatmap": [
           {
            "type": "heatmap",
            "colorbar": {
             "outlinewidth": 0,
             "ticks": ""
            },
            "colorscale": [
             [
              0.0,
              "#0d0887"
             ],
             [
              0.1111111111111111,
              "#46039f"
             ],
             [
              0.2222222222222222,
              "#7201a8"
             ],
             [
              0.3333333333333333,
              "#9c179e"
             ],
             [
              0.4444444444444444,
              "#bd3786"
             ],
             [
              0.5555555555555556,
              "#d8576b"
             ],
             [
              0.6666666666666666,
              "#ed7953"
             ],
             [
              0.7777777777777778,
              "#fb9f3a"
             ],
             [
              0.8888888888888888,
              "#fdca26"
             ],
             [
              1.0,
              "#f0f921"
             ]
            ]
           }
          ],
          "contourcarpet": [
           {
            "type": "contourcarpet",
            "colorbar": {
             "outlinewidth": 0,
             "ticks": ""
            }
           }
          ],
          "contour": [
           {
            "type": "contour",
            "colorbar": {
             "outlinewidth": 0,
             "ticks": ""
            },
            "colorscale": [
             [
              0.0,
              "#0d0887"
             ],
             [
              0.1111111111111111,
              "#46039f"
             ],
             [
              0.2222222222222222,
              "#7201a8"
             ],
             [
              0.3333333333333333,
              "#9c179e"
             ],
             [
              0.4444444444444444,
              "#bd3786"
             ],
             [
              0.5555555555555556,
              "#d8576b"
             ],
             [
              0.6666666666666666,
              "#ed7953"
             ],
             [
              0.7777777777777778,
              "#fb9f3a"
             ],
             [
              0.8888888888888888,
              "#fdca26"
             ],
             [
              1.0,
              "#f0f921"
             ]
            ]
           }
          ],
          "surface": [
           {
            "type": "surface",
            "colorbar": {
             "outlinewidth": 0,
             "ticks": ""
            },
            "colorscale": [
             [
              0.0,
              "#0d0887"
             ],
             [
              0.1111111111111111,
              "#46039f"
             ],
             [
              0.2222222222222222,
              "#7201a8"
             ],
             [
              0.3333333333333333,
              "#9c179e"
             ],
             [
              0.4444444444444444,
              "#bd3786"
             ],
             [
              0.5555555555555556,
              "#d8576b"
             ],
             [
              0.6666666666666666,
              "#ed7953"
             ],
             [
              0.7777777777777778,
              "#fb9f3a"
             ],
             [
              0.8888888888888888,
              "#fdca26"
             ],
             [
              1.0,
              "#f0f921"
             ]
            ]
           }
          ],
          "mesh3d": [
           {
            "type": "mesh3d",
            "colorbar": {
             "outlinewidth": 0,
             "ticks": ""
            }
           }
          ],
          "scatter": [
           {
            "fillpattern": {
             "fillmode": "overlay",
             "size": 10,
             "solidity": 0.2
            },
            "type": "scatter"
           }
          ],
          "parcoords": [
           {
            "type": "parcoords",
            "line": {
             "colorbar": {
              "outlinewidth": 0,
              "ticks": ""
             }
            }
           }
          ],
          "scatterpolargl": [
           {
            "type": "scatterpolargl",
            "marker": {
             "colorbar": {
              "outlinewidth": 0,
              "ticks": ""
             }
            }
           }
          ],
          "bar": [
           {
            "error_x": {
             "color": "#2a3f5f"
            },
            "error_y": {
             "color": "#2a3f5f"
            },
            "marker": {
             "line": {
              "color": "#E5ECF6",
              "width": 0.5
             },
             "pattern": {
              "fillmode": "overlay",
              "size": 10,
              "solidity": 0.2
             }
            },
            "type": "bar"
           }
          ],
          "scattergeo": [
           {
            "type": "scattergeo",
            "marker": {
             "colorbar": {
              "outlinewidth": 0,
              "ticks": ""
             }
            }
           }
          ],
          "scatterpolar": [
           {
            "type": "scatterpolar",
            "marker": {
             "colorbar": {
              "outlinewidth": 0,
              "ticks": ""
             }
            }
           }
          ],
          "histogram": [
           {
            "marker": {
             "pattern": {
              "fillmode": "overlay",
              "size": 10,
              "solidity": 0.2
             }
            },
            "type": "histogram"
           }
          ],
          "scattergl": [
           {
            "type": "scattergl",
            "marker": {
             "colorbar": {
              "outlinewidth": 0,
              "ticks": ""
             }
            }
           }
          ],
          "scatter3d": [
           {
            "type": "scatter3d",
            "line": {
             "colorbar": {
              "outlinewidth": 0,
              "ticks": ""
             }
            },
            "marker": {
             "colorbar": {
              "outlinewidth": 0,
              "ticks": ""
             }
            }
           }
          ],
          "scattermap": [
           {
            "type": "scattermap",
            "marker": {
             "colorbar": {
              "outlinewidth": 0,
              "ticks": ""
             }
            }
           }
          ],
          "scattermapbox": [
           {
            "type": "scattermapbox",
            "marker": {
             "colorbar": {
              "outlinewidth": 0,
              "ticks": ""
             }
            }
           }
          ],
          "scatterternary": [
           {
            "type": "scatterternary",
            "marker": {
             "colorbar": {
              "outlinewidth": 0,
              "ticks": ""
             }
            }
           }
          ],
          "scattercarpet": [
           {
            "type": "scattercarpet",
            "marker": {
             "colorbar": {
              "outlinewidth": 0,
              "ticks": ""
             }
            }
           }
          ],
          "carpet": [
           {
            "aaxis": {
             "endlinecolor": "#2a3f5f",
             "gridcolor": "white",
             "linecolor": "white",
             "minorgridcolor": "white",
             "startlinecolor": "#2a3f5f"
            },
            "baxis": {
             "endlinecolor": "#2a3f5f",
             "gridcolor": "white",
             "linecolor": "white",
             "minorgridcolor": "white",
             "startlinecolor": "#2a3f5f"
            },
            "type": "carpet"
           }
          ],
          "table": [
           {
            "cells": {
             "fill": {
              "color": "#EBF0F8"
             },
             "line": {
              "color": "white"
             }
            },
            "header": {
             "fill": {
              "color": "#C8D4E3"
             },
             "line": {
              "color": "white"
             }
            },
            "type": "table"
           }
          ],
          "barpolar": [
           {
            "marker": {
             "line": {
              "color": "#E5ECF6",
              "width": 0.5
             },
             "pattern": {
              "fillmode": "overlay",
              "size": 10,
              "solidity": 0.2
             }
            },
            "type": "barpolar"
           }
          ],
          "pie": [
           {
            "automargin": true,
            "type": "pie"
           }
          ]
         },
         "layout": {
          "autotypenumbers": "strict",
          "colorway": [
           "#636efa",
           "#EF553B",
           "#00cc96",
           "#ab63fa",
           "#FFA15A",
           "#19d3f3",
           "#FF6692",
           "#B6E880",
           "#FF97FF",
           "#FECB52"
          ],
          "font": {
           "color": "#2a3f5f"
          },
          "hovermode": "closest",
          "hoverlabel": {
           "align": "left"
          },
          "paper_bgcolor": "white",
          "plot_bgcolor": "#E5ECF6",
          "polar": {
           "bgcolor": "#E5ECF6",
           "angularaxis": {
            "gridcolor": "white",
            "linecolor": "white",
            "ticks": ""
           },
           "radialaxis": {
            "gridcolor": "white",
            "linecolor": "white",
            "ticks": ""
           }
          },
          "ternary": {
           "bgcolor": "#E5ECF6",
           "aaxis": {
            "gridcolor": "white",
            "linecolor": "white",
            "ticks": ""
           },
           "baxis": {
            "gridcolor": "white",
            "linecolor": "white",
            "ticks": ""
           },
           "caxis": {
            "gridcolor": "white",
            "linecolor": "white",
            "ticks": ""
           }
          },
          "coloraxis": {
           "colorbar": {
            "outlinewidth": 0,
            "ticks": ""
           }
          },
          "colorscale": {
           "sequential": [
            [
             0.0,
             "#0d0887"
            ],
            [
             0.1111111111111111,
             "#46039f"
            ],
            [
             0.2222222222222222,
             "#7201a8"
            ],
            [
             0.3333333333333333,
             "#9c179e"
            ],
            [
             0.4444444444444444,
             "#bd3786"
            ],
            [
             0.5555555555555556,
             "#d8576b"
            ],
            [
             0.6666666666666666,
             "#ed7953"
            ],
            [
             0.7777777777777778,
             "#fb9f3a"
            ],
            [
             0.8888888888888888,
             "#fdca26"
            ],
            [
             1.0,
             "#f0f921"
            ]
           ],
           "sequentialminus": [
            [
             0.0,
             "#0d0887"
            ],
            [
             0.1111111111111111,
             "#46039f"
            ],
            [
             0.2222222222222222,
             "#7201a8"
            ],
            [
             0.3333333333333333,
             "#9c179e"
            ],
            [
             0.4444444444444444,
             "#bd3786"
            ],
            [
             0.5555555555555556,
             "#d8576b"
            ],
            [
             0.6666666666666666,
             "#ed7953"
            ],
            [
             0.7777777777777778,
             "#fb9f3a"
            ],
            [
             0.8888888888888888,
             "#fdca26"
            ],
            [
             1.0,
             "#f0f921"
            ]
           ],
           "diverging": [
            [
             0,
             "#8e0152"
            ],
            [
             0.1,
             "#c51b7d"
            ],
            [
             0.2,
             "#de77ae"
            ],
            [
             0.3,
             "#f1b6da"
            ],
            [
             0.4,
             "#fde0ef"
            ],
            [
             0.5,
             "#f7f7f7"
            ],
            [
             0.6,
             "#e6f5d0"
            ],
            [
             0.7,
             "#b8e186"
            ],
            [
             0.8,
             "#7fbc41"
            ],
            [
             0.9,
             "#4d9221"
            ],
            [
             1,
             "#276419"
            ]
           ]
          },
          "xaxis": {
           "gridcolor": "white",
           "linecolor": "white",
           "ticks": "",
           "title": {
            "standoff": 15
           },
           "zerolinecolor": "white",
           "automargin": true,
           "zerolinewidth": 2
          },
          "yaxis": {
           "gridcolor": "white",
           "linecolor": "white",
           "ticks": "",
           "title": {
            "standoff": 15
           },
           "zerolinecolor": "white",
           "automargin": true,
           "zerolinewidth": 2
          },
          "scene": {
           "xaxis": {
            "backgroundcolor": "#E5ECF6",
            "gridcolor": "white",
            "linecolor": "white",
            "showbackground": true,
            "ticks": "",
            "zerolinecolor": "white",
            "gridwidth": 2
           },
           "yaxis": {
            "backgroundcolor": "#E5ECF6",
            "gridcolor": "white",
            "linecolor": "white",
            "showbackground": true,
            "ticks": "",
            "zerolinecolor": "white",
            "gridwidth": 2
           },
           "zaxis": {
            "backgroundcolor": "#E5ECF6",
            "gridcolor": "white",
            "linecolor": "white",
            "showbackground": true,
            "ticks": "",
            "zerolinecolor": "white",
            "gridwidth": 2
           }
          },
          "shapedefaults": {
           "line": {
            "color": "#2a3f5f"
           }
          },
          "annotationdefaults": {
           "arrowcolor": "#2a3f5f",
           "arrowhead": 0,
           "arrowwidth": 1
          },
          "geo": {
           "bgcolor": "white",
           "landcolor": "#E5ECF6",
           "subunitcolor": "white",
           "showland": true,
           "showlakes": true,
           "lakecolor": "white"
          },
          "title": {
           "x": 0.05
          },
          "mapbox": {
           "style": "light"
          }
         }
        },
        "xaxis": {
         "anchor": "y",
         "domain": [
          0.0,
          0.45
         ],
         "title": {
          "text": "Epoch"
         }
        },
        "yaxis": {
         "anchor": "x",
         "domain": [
          0.0,
          1.0
         ],
         "title": {
          "text": "Root Mean Squared Error"
         },
         "range": [
          2.9963722229003906,
          19.133255004882812
         ]
        },
        "xaxis2": {
         "anchor": "y2",
         "domain": [
          0.55,
          1.0
         ],
         "title": {
          "text": "TRIP_MILES"
         }
        },
        "yaxis2": {
         "anchor": "x2",
         "domain": [
          0.0,
          1.0
         ],
         "title": {
          "text": "FARE"
         }
        },
        "annotations": [
         {
          "font": {
           "size": 16
          },
          "showarrow": false,
          "text": "Loss Curve",
          "x": 0.225,
          "xanchor": "center",
          "xref": "paper",
          "y": 1.0,
          "yanchor": "bottom",
          "yref": "paper"
         },
         {
          "font": {
           "size": 16
          },
          "showarrow": false,
          "text": "Model Plot",
          "x": 0.775,
          "xanchor": "center",
          "xref": "paper",
          "y": 1.0,
          "yanchor": "bottom",
          "yref": "paper"
         }
        ]
       },
       "config": {
        "plotlyServerURL": "https://plot.ly"
       }
      }
     },
     "metadata": {},
     "output_type": "display_data"
    }
   ],
   "execution_count": 28
  },
  {
   "metadata": {
    "ExecuteTime": {
     "end_time": "2025-06-16T10:53:46.035797Z",
     "start_time": "2025-06-16T10:53:46.023779Z"
    }
   },
   "cell_type": "code",
   "source": [
    "#@title Double-click to view answers for hyperparameter experiments\n",
    "\n",
    "# How did raising the learning rate impact your ability to train the model?\n",
    "# -----------------------------------------------------------------------------\n",
    "answer = \"\"\"\n",
    "When the learning rate is too high, the loss curve bounces around and does not\n",
    "appear to be moving towards convergence with each iteration. Also, notice that\n",
    "the predicted model does not fit the data very well. With a learning rate that\n",
    "is too high, it is unlikely that you will be able to train a model with good\n",
    "results.\n",
    "\"\"\"\n",
    "print(answer)\n",
    "\n",
    "# How did lowering the learning rate impact your ability to train the model?\n",
    "# -----------------------------------------------------------------------------\n",
    "answer = '''\n",
    "When the learning rate is too small, it may take longer for the loss curve to\n",
    "converge. With a small learning rate the loss curve decreases slowly, but does\n",
    "not show a dramatic drop or leveling off. With a small learning rate you could\n",
    "increase the number of epochs so that your model will eventually converge, but\n",
    "it will take longer.\n",
    "'''\n",
    "print(answer)\n",
    "\n",
    "# Did changing the batch size effect your training results?\n",
    "# -----------------------------------------------------------------------------\n",
    "answer = '''\n",
    "Increasing the batch size makes each epoch run faster, but as with the smaller\n",
    "learning rate, the model does not converge with just 20 epochs. If you have\n",
    "time, try increasing the number of epochs and eventually you should see the\n",
    "model converge.\n",
    "'''\n",
    "print(answer)"
   ],
   "id": "8f10dfbdf033a38a",
   "outputs": [
    {
     "name": "stdout",
     "output_type": "stream",
     "text": [
      "\n",
      "When the learning rate is too high, the loss curve bounces around and does not\n",
      "appear to be moving towards convergence with each iteration. Also, notice that\n",
      "the predicted model does not fit the data very well. With a learning rate that\n",
      "is too high, it is unlikely that you will be able to train a model with good\n",
      "results.\n",
      "\n",
      "\n",
      "When the learning rate is too small, it may take longer for the loss curve to\n",
      "converge. With a small learning rate the loss curve decreases slowly, but does\n",
      "not show a dramatic drop or leveling off. With a small learning rate you could\n",
      "increase the number of epochs so that your model will eventually converge, but\n",
      "it will take longer.\n",
      "\n",
      "\n",
      "Increasing the batch size makes each epoch run faster, but as with the smaller\n",
      "learning rate, the model does not converge with just 20 epochs. If you have\n",
      "time, try increasing the number of epochs and eventually you should see the\n",
      "model converge.\n",
      "\n"
     ]
    }
   ],
   "execution_count": 27
  },
  {
   "metadata": {
    "ExecuteTime": {
     "end_time": "2025-06-16T11:20:07.875741Z",
     "start_time": "2025-06-16T11:20:01.841452Z"
    }
   },
   "cell_type": "code",
   "source": [
    "#@title Code - Experiment 3\n",
    "\n",
    "# The following variables are the hyperparameters.\n",
    "learning_rate = 0.001\n",
    "epochs = 20\n",
    "batch_size = 50\n",
    "\n",
    "training_df.loc[:, 'TRIP_MINUTES'] = training_df['TRIP_SECONDS']/60\n",
    "\n",
    "features = ['TRIP_MILES', 'TRIP_MINUTES']\n",
    "label = 'FARE'\n",
    "\n",
    "model_2 = run_experiment(training_df, features, label, learning_rate, epochs, batch_size)"
   ],
   "id": "ad9fbf5fbd86db45",
   "outputs": [
    {
     "name": "stdout",
     "output_type": "stream",
     "text": [
      "INFO: starting training experiment with features=['TRIP_MILES', 'TRIP_MINUTES'] and label=FARE\n",
      "\n",
      "Epoch 1/20\n",
      "\u001B[1m634/634\u001B[0m \u001B[32m━━━━━━━━━━━━━━━━━━━━\u001B[0m\u001B[37m\u001B[0m \u001B[1m0s\u001B[0m 428us/step - loss: 304.3071 - root_mean_squared_error: 17.3618\n",
      "Epoch 2/20\n",
      "\u001B[1m634/634\u001B[0m \u001B[32m━━━━━━━━━━━━━━━━━━━━\u001B[0m\u001B[37m\u001B[0m \u001B[1m0s\u001B[0m 431us/step - loss: 124.9100 - root_mean_squared_error: 11.1737\n",
      "Epoch 3/20\n",
      "\u001B[1m634/634\u001B[0m \u001B[32m━━━━━━━━━━━━━━━━━━━━\u001B[0m\u001B[37m\u001B[0m \u001B[1m0s\u001B[0m 433us/step - loss: 86.2593 - root_mean_squared_error: 9.2830\n",
      "Epoch 4/20\n",
      "\u001B[1m634/634\u001B[0m \u001B[32m━━━━━━━━━━━━━━━━━━━━\u001B[0m\u001B[37m\u001B[0m \u001B[1m0s\u001B[0m 430us/step - loss: 55.0067 - root_mean_squared_error: 7.4128\n",
      "Epoch 5/20\n",
      "\u001B[1m634/634\u001B[0m \u001B[32m━━━━━━━━━━━━━━━━━━━━\u001B[0m\u001B[37m\u001B[0m \u001B[1m0s\u001B[0m 429us/step - loss: 34.4848 - root_mean_squared_error: 5.8578\n",
      "Epoch 6/20\n",
      "\u001B[1m634/634\u001B[0m \u001B[32m━━━━━━━━━━━━━━━━━━━━\u001B[0m\u001B[37m\u001B[0m \u001B[1m0s\u001B[0m 447us/step - loss: 20.5657 - root_mean_squared_error: 4.5318\n",
      "Epoch 7/20\n",
      "\u001B[1m634/634\u001B[0m \u001B[32m━━━━━━━━━━━━━━━━━━━━\u001B[0m\u001B[37m\u001B[0m \u001B[1m0s\u001B[0m 437us/step - loss: 16.2052 - root_mean_squared_error: 4.0102\n",
      "Epoch 8/20\n",
      "\u001B[1m634/634\u001B[0m \u001B[32m━━━━━━━━━━━━━━━━━━━━\u001B[0m\u001B[37m\u001B[0m \u001B[1m0s\u001B[0m 437us/step - loss: 13.1181 - root_mean_squared_error: 3.6199\n",
      "Epoch 9/20\n",
      "\u001B[1m634/634\u001B[0m \u001B[32m━━━━━━━━━━━━━━━━━━━━\u001B[0m\u001B[37m\u001B[0m \u001B[1m0s\u001B[0m 428us/step - loss: 12.8995 - root_mean_squared_error: 3.5854\n",
      "Epoch 10/20\n",
      "\u001B[1m634/634\u001B[0m \u001B[32m━━━━━━━━━━━━━━━━━━━━\u001B[0m\u001B[37m\u001B[0m \u001B[1m0s\u001B[0m 424us/step - loss: 11.3777 - root_mean_squared_error: 3.3670\n",
      "Epoch 11/20\n",
      "\u001B[1m634/634\u001B[0m \u001B[32m━━━━━━━━━━━━━━━━━━━━\u001B[0m\u001B[37m\u001B[0m \u001B[1m0s\u001B[0m 434us/step - loss: 12.3295 - root_mean_squared_error: 3.5040\n",
      "Epoch 12/20\n",
      "\u001B[1m634/634\u001B[0m \u001B[32m━━━━━━━━━━━━━━━━━━━━\u001B[0m\u001B[37m\u001B[0m \u001B[1m0s\u001B[0m 444us/step - loss: 12.7618 - root_mean_squared_error: 3.5607\n",
      "Epoch 13/20\n",
      "\u001B[1m634/634\u001B[0m \u001B[32m━━━━━━━━━━━━━━━━━━━━\u001B[0m\u001B[37m\u001B[0m \u001B[1m0s\u001B[0m 427us/step - loss: 11.8182 - root_mean_squared_error: 3.4265\n",
      "Epoch 14/20\n",
      "\u001B[1m634/634\u001B[0m \u001B[32m━━━━━━━━━━━━━━━━━━━━\u001B[0m\u001B[37m\u001B[0m \u001B[1m0s\u001B[0m 433us/step - loss: 12.2941 - root_mean_squared_error: 3.4990\n",
      "Epoch 15/20\n",
      "\u001B[1m634/634\u001B[0m \u001B[32m━━━━━━━━━━━━━━━━━━━━\u001B[0m\u001B[37m\u001B[0m \u001B[1m0s\u001B[0m 430us/step - loss: 11.8226 - root_mean_squared_error: 3.4330\n",
      "Epoch 16/20\n",
      "\u001B[1m634/634\u001B[0m \u001B[32m━━━━━━━━━━━━━━━━━━━━\u001B[0m\u001B[37m\u001B[0m \u001B[1m0s\u001B[0m 426us/step - loss: 13.2085 - root_mean_squared_error: 3.6186\n",
      "Epoch 17/20\n",
      "\u001B[1m634/634\u001B[0m \u001B[32m━━━━━━━━━━━━━━━━━━━━\u001B[0m\u001B[37m\u001B[0m \u001B[1m0s\u001B[0m 462us/step - loss: 11.2384 - root_mean_squared_error: 3.3348\n",
      "Epoch 18/20\n",
      "\u001B[1m634/634\u001B[0m \u001B[32m━━━━━━━━━━━━━━━━━━━━\u001B[0m\u001B[37m\u001B[0m \u001B[1m0s\u001B[0m 452us/step - loss: 12.0539 - root_mean_squared_error: 3.4661\n",
      "Epoch 19/20\n",
      "\u001B[1m634/634\u001B[0m \u001B[32m━━━━━━━━━━━━━━━━━━━━\u001B[0m\u001B[37m\u001B[0m \u001B[1m0s\u001B[0m 457us/step - loss: 13.0907 - root_mean_squared_error: 3.6118\n",
      "Epoch 20/20\n",
      "\u001B[1m634/634\u001B[0m \u001B[32m━━━━━━━━━━━━━━━━━━━━\u001B[0m\u001B[37m\u001B[0m \u001B[1m0s\u001B[0m 433us/step - loss: 13.2863 - root_mean_squared_error: 3.6418\n",
      "\n",
      "SUCCESS: training experiment complete\n",
      "\n",
      "--------------------------------------------------------------------------------\n",
      "|                                  MODEL INFO                                  |\n",
      "--------------------------------------------------------------------------------\n",
      "Weight for feature[TRIP_MILES]: 2.030\n",
      "Weight for feature[TRIP_MINUTES]: 0.148\n",
      "Bias: 3.820\n",
      "\n",
      "FARE = 2.030 * TRIP_MILES + 0.148 * TRIP_MINUTES + 3.820\n",
      "\n"
     ]
    },
    {
     "data": {
      "application/vnd.plotly.v1+json": {
       "data": [
        {
         "hovertemplate": "TRIP_MILES=%{x}<br>TRIP_MINUTES=%{y}<br>FARE=%{z}<extra></extra>",
         "legendgroup": "",
         "marker": {
          "color": "#636efa",
          "symbol": "circle"
         },
         "mode": "markers",
         "name": "",
         "scene": "scene",
         "showlegend": false,
         "x": {
          "dtype": "f8",
          "bdata": "cT0K16NwCUDXo3A9CtckQOxRuB6F6/E/7FG4HoWrMUCamZmZmZn5PzMzMzMzMx9APQrXo3C9LkBSuB6F61EuQAAAAAAAABxAzczMzMzM/D/D9Shcj8LtP6RwPQrXowBAzczMzMwMMkCkcD0K1yMxQEjhehSuRyxASOF6FK5HGEAAAAAAAMAxQMP1KFyPwgNAmpmZmZkZNUAzMzMzMzMoQGZmZmZmZvY/AAAAAABAMkAAAAAAAAAaQM3MzMzMzCZAMzMzMzMzMEDXo3A9CtcUQM3MzMzMzBZAAAAAAACAI0DNzMzMzMwjQJqZmZmZmTFAmpmZmZmZIUCamZmZmRkmQEjhehSuRw1A16NwPQrXLUCamZmZmZnxP3sUrkfhehFAFK5H4XoUAEBSuB6F61H8Pylcj8L1KAJAuB6F61G49j+amZmZmZkJQFK4HoXrkTVAKVyPwvUo7D/NzMzMzMzkPwrXo3A9ChpAMzMzMzOzMUBxPQrXo3AlQAAAAAAAADFAFK5H4XoUAEDNzMzMzMwAQIXrUbgehQ1AZmZmZmZmCkB7FK5H4Xr8P65H4XoU7jJAH4XrUbieMEApXI/C9SgrQOF6FK5H4eI/exSuR+F6GkDXo3A9CtcbQM3MzMzMzA5AcT0K16Nw/T9SuB6F61HoPx+F61G4Hvk/pHA9CtcjJUCuR+F6FO4xQDMzMzMzMwNAj8L1KFyPIkA9CtejcD0AQM3MzMzMjDFAzczMzMzM+D8zMzMzMzMeQOxRuB6F6xtAPQrXo3A9MkCPwvUoXA8vQJqZmZmZmTFAzczMzMzM7D+amZmZmZkxQJqZmZmZmSlAhetRuB6FH0CPwvUoXI/yP5qZmZmZmRlAPQrXo3A96j8fhetRuB4kQDMzMzMzMwdAmpmZmZmZMEDNzMzMzEwxQB+F61G4Hvk/exSuR+E6NECF61G4HoUtQBSuR+F6lCRAZmZmZmZmLUBI4XoUrkf9PwrXo3A9Cvs/16NwPQrX8z9mZmZmZmYnQBSuR+F6FBZA7FG4HoXr4T89CtejcD0UQHE9CtejcCJAMzMzMzMzD0C4HoXrUbgCQGZmZmZmpjBArkfhehSuHUCuR+F6FO4xQAAAAAAAACJAAAAAAAAA+D8zMzMzM7MyQI/C9Shcj/I/UrgehetR9D+amZmZmRkqQClcj8L1KB9ACtejcD0K+z8AAAAAAAD4Pz0K16NwPfI/CtejcD0K+z8zMzMzMzMfQArXo3A9SjFAzczMzMzMGEBmZmZmZmbyPwAAAAAAAAJAmpmZmZmZI0AzMzMzMzMxQClcj8L1KCFAMzMzMzMzH0D2KFyPwnUwQM3MzMzMzPg/mpmZmZmZ/T8UrkfhelQ4QNejcD0KlzJAw/UoXI8CPEApXI/C9agyQGZmZmZmZjpAPQrXo3C9KUA9CtejcD0SQClcj8L1KDJAzczMzMzM7D8AAAAAAAAKQD0K16NwvTlAexSuR+F6JEA9CtejcD3qPxSuR+F6FPo/ZmZmZmZm/j8AAAAAAADwPwAAAAAAABJAexSuR+F65D9xPQrXo3DxPxSuR+F6FPI/AAAAAAAALkAAAAAAAADwP3E9CtejcOU/mpmZmZmZDUCPwvUoXI/yP4/C9ShcjwJAMzMzMzMz4z8zMzMzMzPzPzMzMzMzM/M/mpmZmZmZ6T/NzMzMzMwTQPYoXI/C9Q5AAAAAAAAAJ0AzMzMzM7MyQKRwPQrXoyxAcT0K16NwHEAUrkfhehTuP4XrUbgehf8/MzMzMzMzIEBmZmZmZmbmPzMzMzMzM/c/9ihcj8L1CEAzMzMzMzMnQMP1KFyPwh9AKVyPwvUo5D9mZmZmZmYGQHsUrkfh+iJAhetRuB4FM0BI4XoUrkcNQJqZmZmZGTFACtejcD2KJkCamZmZmZkaQB+F61G4HgtASOF6FK5HH0B7FK5H4Xr4Pz0K16NwPSpAMzMzMzMz6z9xPQrXo/AuQDMzMzMzMxlAPQrXo3C9JkBmZmZmZuYtQI/C9ShcjwpAMzMzMzMzH0AfhetRuN40QKRwPQrXo+g/7FG4HoXrMUA9CtejcD36P+xRuB6FayNA7FG4HoXr6T8zMzMzMzP7P1K4HoXrETBAXI/C9ShcF0CkcD0K16PgPw=="
         },
         "y": {
          "dtype": "f8",
          "bdata": "3t3d3d1dMEBVVVVVVdUzQImIiIiIiBNA3t3d3d1dPUAAAAAAAAAiQAAAAAAAACRAmpmZmZl5QUC8u7u7uzs2QAAAAAAAAD1AVVVVVVXVIUBVVVVVVVUWQJqZmZmZGSdAREREREREQEDNzMzMzOxGQFVVVVVVFThAq6qqqqqqNEDv7u7u7q5CQKuqqqqqKihAAAAAAAAAQkAAAAAAAAAzQO/u7u7u7hhAZmZmZmYmO0AAAAAAAAA+QAAAAAAAADBAAAAAAAAAO0AAAAAAAEA7QAAAAAAAADtAMzMzMzNTSEAAAAAAAAA2QAAAAAAAAD1AAAAAAAAAREAiIiIiImJEQKuqqqqqKi1ARERERETEP0AAAAAAAAAsQN7d3d3d3TBAVVVVVVVVJEAAAAAAAAAkQGZmZmZmZidAMzMzMzMzHkAAAAAAAAAcQM3MzMzMTEVAIiIiIiIiFkB3d3d3d3cRQM3MzMzMTDFAAAAAAAAAQUCamZmZmdk8QEREREREhDpAiYiIiIiIGEDe3d3d3d0mQFVVVVVVVRpAAAAAAAAAMECamZmZmRkhQN7d3d3dfUtAq6qqqqpKQEC8u7u7u3tHQFVVVVVVVRJAIiIiIiLiS0Crqqqqqmo1QImIiIiISDNAERERERGRJkDv7u7u7u4RQFVVVVVV1SRAAAAAAABANUARERERERE8QAAAAAAAAChAiYiIiIiINUBEREREREQkQM3MzMzMbENAmpmZmZmZIEDNzMzMzOxIQJqZmZmZmT5AAAAAAACgRkDNzMzMzGxBQKuqqqqq6kFAAAAAAAAAGEAAAAAAAABBQAAAAAAAgERA7+7u7u5uNUB3d3d3d3cWQAAAAAAAADtAiYiIiIiIF0De3d3d3X1AQKuqqqqqajhAAAAAAACAQEDv7u7u7m4/QDMzMzMzMyBAd3d3d3cXRkDv7u7u7q5CQJqZmZmZ+UVAd3d3d3e3R0Dv7u7u7m4jQN7d3d3d3RhAzczMzMzMGkBmZmZmZmY6QAAAAAAAgCpA7+7u7u7u/j+amZmZmVkxQKuqqqqqakBAAAAAAAAAJ0AAAAAAAIAoQFVVVVVVVT1AmpmZmZkZPEC8u7u7u/s9QAAAAAAAAEdAAAAAAAAAKkC8u7u7uztNQAAAAAAAABRAMzMzMzOzJEB3d3d3d5dDQFVVVVVV1T5AMzMzMzOzIkAAAAAAAAAnQHd3d3d3dxlAMzMzMzMzIEAAAAAAAIBGQLy7u7u7uzZAAAAAAAAAQkCrqqqqqqocQCIiIiIiIhlAVVVVVVWVMEAAAAAAAIBPQBERERERkUlAAAAAAACAQUBERERERERHQM3MzMzMzBhAMzMzMzMzIEAiIiIiIqJFQKuqqqqqCklAzczMzMwMQkCrqqqqqupCQAAAAAAAADxAvLu7u7t7MkCrqqqqqio6QFVVVVVVNUdAREREREREI0AiIiIiIqIiQGZmZmZm5ktAzczMzMxMKkCJiIiIiIgOQFVVVVVVlTFAMzMzMzMzIUAAAAAAAAAiQAAAAAAAACZARERERERECEBERERERMQgQFVVVVVVVSFAAAAAAAAAO0C8u7u7u7scQLy7u7u7uxdAAAAAAAAAMECJiIiIiIggQAAAAAAAACRAVVVVVVVVDUDv7u7u7u4SQAAAAAAAABhAAAAAAAAAIEDe3d3d3Z02QLy7u7u7uyJAAAAAAAAANEAAAAAAAABDQEREREREREZAd3d3d3d3MEDNzMzMzMwSQM3MzMzMTCRAAAAAAAAAOkAAAAAAAAAiQImIiIiIiBxA3t3d3d3dKkAAAAAAAIBAQAAAAAAAADRAIiIiIiIiCEAAAAAAAAAkQBERERERUTRAmpmZmZmZQEBmZmZmZuYzQAAAAAAAAEhAmpmZmZmZKUDe3d3d3d0qQM3MzMzMzB1AERERERERNkCrqqqqqqodQERERERExD5AzczMzMzMEkC8u7u7u3s5QM3MzMzMDDNAIiIiIiIiQUBmZmZmZqZGQJqZmZmZmShAAAAAAAAAM0B3d3d3d1dLQLy7u7u7uxJAREREREQEPUC8u7u7u7sXQCIiIiIiAkBAIiIiIiIiFkAAAAAAAAAmQFVVVVVV1TtAmpmZmZnZM0BEREREREQOQA=="
         },
         "z": {
          "dtype": "f8",
          "bdata": "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"
         },
         "type": "scatter3d"
        },
        {
         "colorscale": [
          [
           0,
           "#89CFF0"
          ],
          [
           1,
           "#FFDB58"
          ]
         ],
         "x": {
          "dtype": "f8",
          "bdata": "61G4HoXr4T8uHyq1JrolQJpP7kcFDTpA"
         },
         "y": {
          "dtype": "f8",
          "bdata": "7+7u7u7u/j+JiIiIiIg+QAAAAAAAgE9A"
         },
         "z": [
          [
           5.242446531454722,
           30.385402680436773,
           66.01325189232827
          ],
          [
           5.242446531454722,
           30.385402680436773,
           66.01325189232827
          ],
          [
           5.242446531454722,
           30.385402680436773,
           66.01325189232827
          ]
         ],
         "type": "surface",
         "scene": "scene"
        },
        {
         "hovertemplate": "x=%{x}<br>y=%{y}<extra></extra>",
         "legendgroup": "",
         "line": {
          "color": "#ff0000",
          "dash": "solid",
          "width": 3
         },
         "marker": {
          "symbol": "circle"
         },
         "mode": "lines",
         "name": "",
         "orientation": "v",
         "showlegend": false,
         "x": {
          "dtype": "i1",
          "bdata": "AAECAwQFBgcICQoLDA0ODxAREhM="
         },
         "xaxis": "x",
         "y": {
          "dtype": "f8",
          "bdata": "AAAAgIblLUAAAACgupElQAAAAAC8qiFAAAAAwJwQHEAAAABADsUVQAAAAIAIOhFAAAAA4NH/DUAAAADA+5gMQAAAAACjLAxAAAAAoBH+C0AAAABAbuYLQAAAAKB/2wtAAAAAwHfWC0AAAAAgANQLQAAAAMD10wtAAAAAYEzUC0AAAAAgwtILQAAAAKDi0wtAAAAA4B/UC0AAAABgGdQLQA=="
         },
         "yaxis": "y",
         "type": "scatter"
        }
       ],
       "layout": {
        "template": {
         "data": {
          "histogram2dcontour": [
           {
            "type": "histogram2dcontour",
            "colorbar": {
             "outlinewidth": 0,
             "ticks": ""
            },
            "colorscale": [
             [
              0.0,
              "#0d0887"
             ],
             [
              0.1111111111111111,
              "#46039f"
             ],
             [
              0.2222222222222222,
              "#7201a8"
             ],
             [
              0.3333333333333333,
              "#9c179e"
             ],
             [
              0.4444444444444444,
              "#bd3786"
             ],
             [
              0.5555555555555556,
              "#d8576b"
             ],
             [
              0.6666666666666666,
              "#ed7953"
             ],
             [
              0.7777777777777778,
              "#fb9f3a"
             ],
             [
              0.8888888888888888,
              "#fdca26"
             ],
             [
              1.0,
              "#f0f921"
             ]
            ]
           }
          ],
          "choropleth": [
           {
            "type": "choropleth",
            "colorbar": {
             "outlinewidth": 0,
             "ticks": ""
            }
           }
          ],
          "histogram2d": [
           {
            "type": "histogram2d",
            "colorbar": {
             "outlinewidth": 0,
             "ticks": ""
            },
            "colorscale": [
             [
              0.0,
              "#0d0887"
             ],
             [
              0.1111111111111111,
              "#46039f"
             ],
             [
              0.2222222222222222,
              "#7201a8"
             ],
             [
              0.3333333333333333,
              "#9c179e"
             ],
             [
              0.4444444444444444,
              "#bd3786"
             ],
             [
              0.5555555555555556,
              "#d8576b"
             ],
             [
              0.6666666666666666,
              "#ed7953"
             ],
             [
              0.7777777777777778,
              "#fb9f3a"
             ],
             [
              0.8888888888888888,
              "#fdca26"
             ],
             [
              1.0,
              "#f0f921"
             ]
            ]
           }
          ],
          "heatmap": [
           {
            "type": "heatmap",
            "colorbar": {
             "outlinewidth": 0,
             "ticks": ""
            },
            "colorscale": [
             [
              0.0,
              "#0d0887"
             ],
             [
              0.1111111111111111,
              "#46039f"
             ],
             [
              0.2222222222222222,
              "#7201a8"
             ],
             [
              0.3333333333333333,
              "#9c179e"
             ],
             [
              0.4444444444444444,
              "#bd3786"
             ],
             [
              0.5555555555555556,
              "#d8576b"
             ],
             [
              0.6666666666666666,
              "#ed7953"
             ],
             [
              0.7777777777777778,
              "#fb9f3a"
             ],
             [
              0.8888888888888888,
              "#fdca26"
             ],
             [
              1.0,
              "#f0f921"
             ]
            ]
           }
          ],
          "contourcarpet": [
           {
            "type": "contourcarpet",
            "colorbar": {
             "outlinewidth": 0,
             "ticks": ""
            }
           }
          ],
          "contour": [
           {
            "type": "contour",
            "colorbar": {
             "outlinewidth": 0,
             "ticks": ""
            },
            "colorscale": [
             [
              0.0,
              "#0d0887"
             ],
             [
              0.1111111111111111,
              "#46039f"
             ],
             [
              0.2222222222222222,
              "#7201a8"
             ],
             [
              0.3333333333333333,
              "#9c179e"
             ],
             [
              0.4444444444444444,
              "#bd3786"
             ],
             [
              0.5555555555555556,
              "#d8576b"
             ],
             [
              0.6666666666666666,
              "#ed7953"
             ],
             [
              0.7777777777777778,
              "#fb9f3a"
             ],
             [
              0.8888888888888888,
              "#fdca26"
             ],
             [
              1.0,
              "#f0f921"
             ]
            ]
           }
          ],
          "surface": [
           {
            "type": "surface",
            "colorbar": {
             "outlinewidth": 0,
             "ticks": ""
            },
            "colorscale": [
             [
              0.0,
              "#0d0887"
             ],
             [
              0.1111111111111111,
              "#46039f"
             ],
             [
              0.2222222222222222,
              "#7201a8"
             ],
             [
              0.3333333333333333,
              "#9c179e"
             ],
             [
              0.4444444444444444,
              "#bd3786"
             ],
             [
              0.5555555555555556,
              "#d8576b"
             ],
             [
              0.6666666666666666,
              "#ed7953"
             ],
             [
              0.7777777777777778,
              "#fb9f3a"
             ],
             [
              0.8888888888888888,
              "#fdca26"
             ],
             [
              1.0,
              "#f0f921"
             ]
            ]
           }
          ],
          "mesh3d": [
           {
            "type": "mesh3d",
            "colorbar": {
             "outlinewidth": 0,
             "ticks": ""
            }
           }
          ],
          "scatter": [
           {
            "fillpattern": {
             "fillmode": "overlay",
             "size": 10,
             "solidity": 0.2
            },
            "type": "scatter"
           }
          ],
          "parcoords": [
           {
            "type": "parcoords",
            "line": {
             "colorbar": {
              "outlinewidth": 0,
              "ticks": ""
             }
            }
           }
          ],
          "scatterpolargl": [
           {
            "type": "scatterpolargl",
            "marker": {
             "colorbar": {
              "outlinewidth": 0,
              "ticks": ""
             }
            }
           }
          ],
          "bar": [
           {
            "error_x": {
             "color": "#2a3f5f"
            },
            "error_y": {
             "color": "#2a3f5f"
            },
            "marker": {
             "line": {
              "color": "#E5ECF6",
              "width": 0.5
             },
             "pattern": {
              "fillmode": "overlay",
              "size": 10,
              "solidity": 0.2
             }
            },
            "type": "bar"
           }
          ],
          "scattergeo": [
           {
            "type": "scattergeo",
            "marker": {
             "colorbar": {
              "outlinewidth": 0,
              "ticks": ""
             }
            }
           }
          ],
          "scatterpolar": [
           {
            "type": "scatterpolar",
            "marker": {
             "colorbar": {
              "outlinewidth": 0,
              "ticks": ""
             }
            }
           }
          ],
          "histogram": [
           {
            "marker": {
             "pattern": {
              "fillmode": "overlay",
              "size": 10,
              "solidity": 0.2
             }
            },
            "type": "histogram"
           }
          ],
          "scattergl": [
           {
            "type": "scattergl",
            "marker": {
             "colorbar": {
              "outlinewidth": 0,
              "ticks": ""
             }
            }
           }
          ],
          "scatter3d": [
           {
            "type": "scatter3d",
            "line": {
             "colorbar": {
              "outlinewidth": 0,
              "ticks": ""
             }
            },
            "marker": {
             "colorbar": {
              "outlinewidth": 0,
              "ticks": ""
             }
            }
           }
          ],
          "scattermap": [
           {
            "type": "scattermap",
            "marker": {
             "colorbar": {
              "outlinewidth": 0,
              "ticks": ""
             }
            }
           }
          ],
          "scattermapbox": [
           {
            "type": "scattermapbox",
            "marker": {
             "colorbar": {
              "outlinewidth": 0,
              "ticks": ""
             }
            }
           }
          ],
          "scatterternary": [
           {
            "type": "scatterternary",
            "marker": {
             "colorbar": {
              "outlinewidth": 0,
              "ticks": ""
             }
            }
           }
          ],
          "scattercarpet": [
           {
            "type": "scattercarpet",
            "marker": {
             "colorbar": {
              "outlinewidth": 0,
              "ticks": ""
             }
            }
           }
          ],
          "carpet": [
           {
            "aaxis": {
             "endlinecolor": "#2a3f5f",
             "gridcolor": "white",
             "linecolor": "white",
             "minorgridcolor": "white",
             "startlinecolor": "#2a3f5f"
            },
            "baxis": {
             "endlinecolor": "#2a3f5f",
             "gridcolor": "white",
             "linecolor": "white",
             "minorgridcolor": "white",
             "startlinecolor": "#2a3f5f"
            },
            "type": "carpet"
           }
          ],
          "table": [
           {
            "cells": {
             "fill": {
              "color": "#EBF0F8"
             },
             "line": {
              "color": "white"
             }
            },
            "header": {
             "fill": {
              "color": "#C8D4E3"
             },
             "line": {
              "color": "white"
             }
            },
            "type": "table"
           }
          ],
          "barpolar": [
           {
            "marker": {
             "line": {
              "color": "#E5ECF6",
              "width": 0.5
             },
             "pattern": {
              "fillmode": "overlay",
              "size": 10,
              "solidity": 0.2
             }
            },
            "type": "barpolar"
           }
          ],
          "pie": [
           {
            "automargin": true,
            "type": "pie"
           }
          ]
         },
         "layout": {
          "autotypenumbers": "strict",
          "colorway": [
           "#636efa",
           "#EF553B",
           "#00cc96",
           "#ab63fa",
           "#FFA15A",
           "#19d3f3",
           "#FF6692",
           "#B6E880",
           "#FF97FF",
           "#FECB52"
          ],
          "font": {
           "color": "#2a3f5f"
          },
          "hovermode": "closest",
          "hoverlabel": {
           "align": "left"
          },
          "paper_bgcolor": "white",
          "plot_bgcolor": "#E5ECF6",
          "polar": {
           "bgcolor": "#E5ECF6",
           "angularaxis": {
            "gridcolor": "white",
            "linecolor": "white",
            "ticks": ""
           },
           "radialaxis": {
            "gridcolor": "white",
            "linecolor": "white",
            "ticks": ""
           }
          },
          "ternary": {
           "bgcolor": "#E5ECF6",
           "aaxis": {
            "gridcolor": "white",
            "linecolor": "white",
            "ticks": ""
           },
           "baxis": {
            "gridcolor": "white",
            "linecolor": "white",
            "ticks": ""
           },
           "caxis": {
            "gridcolor": "white",
            "linecolor": "white",
            "ticks": ""
           }
          },
          "coloraxis": {
           "colorbar": {
            "outlinewidth": 0,
            "ticks": ""
           }
          },
          "colorscale": {
           "sequential": [
            [
             0.0,
             "#0d0887"
            ],
            [
             0.1111111111111111,
             "#46039f"
            ],
            [
             0.2222222222222222,
             "#7201a8"
            ],
            [
             0.3333333333333333,
             "#9c179e"
            ],
            [
             0.4444444444444444,
             "#bd3786"
            ],
            [
             0.5555555555555556,
             "#d8576b"
            ],
            [
             0.6666666666666666,
             "#ed7953"
            ],
            [
             0.7777777777777778,
             "#fb9f3a"
            ],
            [
             0.8888888888888888,
             "#fdca26"
            ],
            [
             1.0,
             "#f0f921"
            ]
           ],
           "sequentialminus": [
            [
             0.0,
             "#0d0887"
            ],
            [
             0.1111111111111111,
             "#46039f"
            ],
            [
             0.2222222222222222,
             "#7201a8"
            ],
            [
             0.3333333333333333,
             "#9c179e"
            ],
            [
             0.4444444444444444,
             "#bd3786"
            ],
            [
             0.5555555555555556,
             "#d8576b"
            ],
            [
             0.6666666666666666,
             "#ed7953"
            ],
            [
             0.7777777777777778,
             "#fb9f3a"
            ],
            [
             0.8888888888888888,
             "#fdca26"
            ],
            [
             1.0,
             "#f0f921"
            ]
           ],
           "diverging": [
            [
             0,
             "#8e0152"
            ],
            [
             0.1,
             "#c51b7d"
            ],
            [
             0.2,
             "#de77ae"
            ],
            [
             0.3,
             "#f1b6da"
            ],
            [
             0.4,
             "#fde0ef"
            ],
            [
             0.5,
             "#f7f7f7"
            ],
            [
             0.6,
             "#e6f5d0"
            ],
            [
             0.7,
             "#b8e186"
            ],
            [
             0.8,
             "#7fbc41"
            ],
            [
             0.9,
             "#4d9221"
            ],
            [
             1,
             "#276419"
            ]
           ]
          },
          "xaxis": {
           "gridcolor": "white",
           "linecolor": "white",
           "ticks": "",
           "title": {
            "standoff": 15
           },
           "zerolinecolor": "white",
           "automargin": true,
           "zerolinewidth": 2
          },
          "yaxis": {
           "gridcolor": "white",
           "linecolor": "white",
           "ticks": "",
           "title": {
            "standoff": 15
           },
           "zerolinecolor": "white",
           "automargin": true,
           "zerolinewidth": 2
          },
          "scene": {
           "xaxis": {
            "backgroundcolor": "#E5ECF6",
            "gridcolor": "white",
            "linecolor": "white",
            "showbackground": true,
            "ticks": "",
            "zerolinecolor": "white",
            "gridwidth": 2
           },
           "yaxis": {
            "backgroundcolor": "#E5ECF6",
            "gridcolor": "white",
            "linecolor": "white",
            "showbackground": true,
            "ticks": "",
            "zerolinecolor": "white",
            "gridwidth": 2
           },
           "zaxis": {
            "backgroundcolor": "#E5ECF6",
            "gridcolor": "white",
            "linecolor": "white",
            "showbackground": true,
            "ticks": "",
            "zerolinecolor": "white",
            "gridwidth": 2
           }
          },
          "shapedefaults": {
           "line": {
            "color": "#2a3f5f"
           }
          },
          "annotationdefaults": {
           "arrowcolor": "#2a3f5f",
           "arrowhead": 0,
           "arrowwidth": 1
          },
          "geo": {
           "bgcolor": "white",
           "landcolor": "#E5ECF6",
           "subunitcolor": "white",
           "showland": true,
           "showlakes": true,
           "lakecolor": "white"
          },
          "title": {
           "x": 0.05
          },
          "mapbox": {
           "style": "light"
          }
         }
        },
        "xaxis": {
         "anchor": "y",
         "domain": [
          0.0,
          0.45
         ],
         "title": {
          "text": "Epoch"
         }
        },
        "yaxis": {
         "anchor": "x",
         "domain": [
          0.0,
          1.0
         ],
         "title": {
          "text": "Root Mean Squared Error"
         },
         "range": [
          2.782327461242676,
          14.948291778564453
         ]
        },
        "scene": {
         "domain": {
          "x": [
           0.55,
           1.0
          ],
          "y": [
           0.0,
           1.0
          ]
         },
         "xaxis": {
          "title": {
           "text": "TRIP_MILES"
          }
         },
         "yaxis": {
          "title": {
           "text": "TRIP_MINUTES"
          }
         },
         "zaxis": {
          "title": {
           "text": "FARE"
          }
         }
        },
        "annotations": [
         {
          "font": {
           "size": 16
          },
          "showarrow": false,
          "text": "Loss Curve",
          "x": 0.225,
          "xanchor": "center",
          "xref": "paper",
          "y": 1.0,
          "yanchor": "bottom",
          "yref": "paper"
         },
         {
          "font": {
           "size": 16
          },
          "showarrow": false,
          "text": "Model Plot",
          "x": 0.775,
          "xanchor": "center",
          "xref": "paper",
          "y": 1.0,
          "yanchor": "bottom",
          "yref": "paper"
         }
        ]
       },
       "config": {
        "plotlyServerURL": "https://plot.ly"
       }
      }
     },
     "metadata": {},
     "output_type": "display_data"
    }
   ],
   "execution_count": 30
  },
  {
   "metadata": {
    "ExecuteTime": {
     "end_time": "2025-06-16T11:20:23.185087Z",
     "start_time": "2025-06-16T11:20:23.177191Z"
    }
   },
   "cell_type": "code",
   "source": [
    "#@title Double-click to view answers for training with two features\n",
    "\n",
    "# Does the model with two features produce better results than one using a\n",
    "# single feature?\n",
    "# -----------------------------------------------------------------------------\n",
    "answer = '''\n",
    "To answer this question for your specific training runs, compare the RMSE for\n",
    "each model. For example, if the RMSE for the model trained with one feature was\n",
    "3.7457 and the RMSE for the model with two features is 3.4787, that means that\n",
    "on average the model with two features makes predictions that are about $0.27\n",
    "closer to the observed fare.\n",
    "\n",
    "'''\n",
    "print(answer)\n",
    "\n",
    "# Does it make a difference if you use TRIP_SECONDS instead of TRIP_MINUTES?\n",
    "# -----------------------------------------------------------------------------\n",
    "answer = '''\n",
    "When training a model with more than one feature, it is important that all\n",
    "numeric values are roughly on the same scale. In this case, TRIP_SECONDS and\n",
    "TRIP_MILES do not meet this criteria. The mean value for TRIP_MILES is 8.3 and\n",
    "the mean for TRIP_SECONDS is 1,320; that is two orders of magnitude difference.\n",
    "In contrast, the mean for TRIP_MINUTES is 22, which is more similar to the scale\n",
    "of TRIP_MILES (8.3) than TRIP_SECONDS (1,320). Of course, this is not the\n",
    "only way to scale values before training, but you will learn about that in\n",
    "another module.\n",
    "'''\n",
    "print(answer)\n",
    "\n",
    "# How well do you think the model comes to the ground truth fare calculation for\n",
    "# Chicago taxi trips?\n",
    "# -----------------------------------------------------------------------------\n",
    "answer = '''\n",
    "In reality, Chicago taxi cabs use a documented formula to determine cab fares.\n",
    "For a single passenger paying cash, the fare is calculated like this:\n",
    "\n",
    "FARE = 2.25 * TRIP_MILES + 0.12 * TRIP_MINUTES + 3.25\n",
    "\n",
    "Typically with machine learning problems you would not know the 'correct'\n",
    "formula, but in this case you can this knowledge to evaluate your model. Take a\n",
    "look at your model output (the weights and bias) and determine how well it\n",
    "matches the ground truth fare calculation. You should find that the model is\n",
    "roughly close to this formula.\n",
    "'''\n",
    "print(answer)"
   ],
   "id": "a1e378a642f4bbde",
   "outputs": [
    {
     "name": "stdout",
     "output_type": "stream",
     "text": [
      "\n",
      "To answer this question for your specific training runs, compare the RMSE for\n",
      "each model. For example, if the RMSE for the model trained with one feature was\n",
      "3.7457 and the RMSE for the model with two features is 3.4787, that means that\n",
      "on average the model with two features makes predictions that are about $0.27\n",
      "closer to the observed fare.\n",
      "\n",
      "\n",
      "\n",
      "When training a model with more than one feature, it is important that all\n",
      "numeric values are roughly on the same scale. In this case, TRIP_SECONDS and\n",
      "TRIP_MILES do not meet this criteria. The mean value for TRIP_MILES is 8.3 and\n",
      "the mean for TRIP_SECONDS is 1,320; that is two orders of magnitude difference.\n",
      "In contrast, the mean for TRIP_MINUTES is 22, which is more similar to the scale\n",
      "of TRIP_MILES (8.3) than TRIP_SECONDS (1,320). Of course, this is not the\n",
      "only way to scale values before training, but you will learn about that in\n",
      "another module.\n",
      "\n",
      "\n",
      "In reality, Chicago taxi cabs use a documented formula to determine cab fares.\n",
      "For a single passenger paying cash, the fare is calculated like this:\n",
      "\n",
      "FARE = 2.25 * TRIP_MILES + 0.12 * TRIP_MINUTES + 3.25\n",
      "\n",
      "Typically with machine learning problems you would not know the 'correct'\n",
      "formula, but in this case you can this knowledge to evaluate your model. Take a\n",
      "look at your model output (the weights and bias) and determine how well it\n",
      "matches the ground truth fare calculation. You should find that the model is\n",
      "roughly close to this formula.\n",
      "\n"
     ]
    }
   ],
   "execution_count": 31
  },
  {
   "metadata": {
    "ExecuteTime": {
     "end_time": "2025-06-16T11:29:12.500891Z",
     "start_time": "2025-06-16T11:29:12.485565Z"
    }
   },
   "cell_type": "code",
   "source": [
    "#@title Code - Define functions to make predictions\n",
    "def format_currency(x):\n",
    "  return \"${:.2f}\".format(x)\n",
    "\n",
    "def build_batch(df, batch_size):\n",
    "  batch = df.sample(n=batch_size).copy()\n",
    "  batch.set_index(np.arange(batch_size), inplace=True)\n",
    "  return batch\n",
    "\n",
    "def predict_fare(model, df, features, label, batch_size=50):\n",
    "  batch = build_batch(df, batch_size)\n",
    "  predicted_values = model.predict_on_batch(x=batch.loc[:, features].values)\n",
    "\n",
    "  data = {\"PREDICTED_FARE\": [], \"OBSERVED_FARE\": [], \"L1_LOSS\": [],\n",
    "          features[0]: [], features[1]: []}\n",
    "  for i in range(batch_size):\n",
    "    predicted = predicted_values[i][0]\n",
    "    observed = batch.at[i, label]\n",
    "    data[\"PREDICTED_FARE\"].append(format_currency(predicted))\n",
    "    data[\"OBSERVED_FARE\"].append(format_currency(observed))\n",
    "    data[\"L1_LOSS\"].append(format_currency(abs(observed - predicted)))\n",
    "    data[features[0]].append(batch.at[i, features[0]])\n",
    "    data[features[1]].append(\"{:.2f}\".format(batch.at[i, features[1]]))\n",
    "\n",
    "  output_df = pd.DataFrame(data)\n",
    "  return output_df\n",
    "\n",
    "def show_predictions(output):\n",
    "  header = \"-\" * 80\n",
    "  banner = header + \"\\n\" + \"|\" + \"PREDICTIONS\".center(78) + \"|\" + \"\\n\" + header\n",
    "  print(banner)\n",
    "  print(output)\n",
    "  return"
   ],
   "id": "c255f6578cba3fe9",
   "outputs": [],
   "execution_count": 32
  },
  {
   "metadata": {
    "ExecuteTime": {
     "end_time": "2025-06-16T11:29:36.465682Z",
     "start_time": "2025-06-16T11:29:36.442759Z"
    }
   },
   "cell_type": "code",
   "source": [
    "#@title Code - Make predictions\n",
    "\n",
    "output = predict_fare(model_2, training_df, features, label)\n",
    "show_predictions(output)"
   ],
   "id": "4692ed1eb83bf491",
   "outputs": [
    {
     "name": "stdout",
     "output_type": "stream",
     "text": [
      "--------------------------------------------------------------------------------\n",
      "|                                 PREDICTIONS                                  |\n",
      "--------------------------------------------------------------------------------\n",
      "   PREDICTED_FARE OBSERVED_FARE L1_LOSS  TRIP_MILES TRIP_MINUTES\n",
      "0          $33.04        $33.25   $0.21       11.65        37.70\n",
      "1          $10.70        $10.69   $0.01        2.54        11.68\n",
      "2           $8.34         $8.00   $0.34        1.50        10.00\n",
      "3          $29.99        $29.75   $0.24       11.58        18.05\n",
      "4          $49.12        $46.75   $2.37       17.80        62.00\n",
      "5          $38.96        $39.25   $0.29       15.59        23.67\n",
      "6           $6.18         $5.75   $0.43        0.80         5.00\n",
      "7          $11.07         $9.00   $2.07        2.78        10.88\n",
      "8           $9.72         $9.00   $0.72        2.10        11.08\n",
      "9          $33.93        $34.00   $0.07       12.20        36.17\n",
      "10          $5.89         $9.00   $3.11        0.63         5.38\n",
      "11         $44.48        $44.00   $0.48       17.70        32.00\n",
      "12          $7.12         $9.00   $1.88        1.24         5.30\n",
      "13         $34.76        $34.75   $0.01       13.51        23.82\n",
      "14         $39.08        $38.25   $0.83       13.80        49.00\n",
      "15          $9.41        $11.75   $2.34        2.10         9.00\n",
      "16         $32.04        $31.75   $0.29       11.88        27.77\n",
      "17          $8.27         $7.75   $0.52        1.52         9.23\n",
      "18          $7.32         $7.00   $0.32        1.31         5.67\n",
      "19          $6.75         $6.00   $0.75        1.02         5.80\n",
      "20         $44.91        $43.25   $1.66       17.40        39.00\n",
      "21          $6.99         $6.25   $0.74        1.20         5.00\n",
      "22          $7.09         $6.75   $0.34        1.10         7.00\n",
      "23          $9.56         $9.00   $0.56        2.10        10.00\n",
      "24         $44.11        $45.00   $0.89       18.09        24.15\n",
      "25         $34.78        $33.25   $1.53       11.90        46.00\n",
      "26         $21.69        $21.75   $0.06        7.20        22.00\n",
      "27         $11.72        $13.25   $1.53        2.00        26.00\n",
      "28         $47.21        $44.00   $3.21       17.53        52.83\n",
      "29          $6.13         $5.75   $0.38        0.70         6.00\n",
      "30         $22.79        $23.00   $0.21        8.10        17.10\n",
      "31         $10.07         $9.50   $0.57        2.50         7.97\n",
      "32         $42.28        $44.00   $1.72       17.20        24.00\n",
      "33         $16.68        $16.25   $0.43        4.72        22.15\n",
      "34         $41.74        $41.25   $0.49       16.85        25.12\n",
      "35         $10.55        $10.25   $0.30        2.19        15.47\n",
      "36         $26.62        $26.50   $0.12        9.20        27.92\n",
      "37         $22.03        $27.50   $5.47        4.86        56.47\n",
      "38          $6.99         $6.25   $0.74        1.20         5.00\n",
      "39         $35.16        $34.25   $0.91       13.50        26.60\n",
      "40         $42.74        $43.00   $0.26       17.50        23.00\n",
      "41          $5.52         $4.75   $0.77        0.59         3.38\n",
      "42         $13.11        $13.41   $0.30        3.94         8.72\n",
      "43         $11.62        $11.00   $0.62        2.86        13.52\n",
      "44          $8.67         $8.75   $0.08        1.53        11.83\n",
      "45         $44.32        $46.50   $2.18       16.90        41.93\n",
      "46         $14.30        $14.00   $0.30        4.30        11.83\n",
      "47         $44.80        $43.00   $1.80       16.94        44.62\n",
      "48          $7.53         $8.00   $0.47        0.87        13.12\n",
      "49         $45.02        $44.75   $0.27       17.60        37.00\n"
     ]
    }
   ],
   "execution_count": 33
  },
  {
   "metadata": {
    "ExecuteTime": {
     "end_time": "2025-06-16T11:34:49.356473Z",
     "start_time": "2025-06-16T11:34:49.351987Z"
    }
   },
   "cell_type": "code",
   "source": [
    "#@title Double-click to view answers for validate model\n",
    "\n",
    "# How close is the predicted value to the label value?\n",
    "# -----------------------------------------------------------------------------\n",
    "answer = '''\n",
    "Based on a random sampling of examples, the model seems to do pretty well\n",
    "predicting the fare for a taxi ride. Most of the predicted values do not vary\n",
    "significantly from the observed value. You should be able to see this by looking\n",
    "at the column L1_LOSS = |observed - predicted|.\n",
    "'''\n",
    "print(answer)"
   ],
   "id": "b5d831863af447cd",
   "outputs": [
    {
     "name": "stdout",
     "output_type": "stream",
     "text": [
      "\n",
      "Based on a random sampling of examples, the model seems to do pretty well\n",
      "predicting the fare for a taxi ride. Most of the predicted values do not vary\n",
      "significantly from the observed value. You should be able to see this by looking\n",
      "at the column L1_LOSS = |observed - predicted|.\n",
      "\n"
     ]
    }
   ],
   "execution_count": 34
  },
  {
   "metadata": {},
   "cell_type": "code",
   "outputs": [],
   "execution_count": null,
   "source": "",
   "id": "e7ebf6d5a273de94"
  }
 ],
 "metadata": {
  "kernelspec": {
   "display_name": "Python 3",
   "language": "python",
   "name": "python3"
  },
  "language_info": {
   "codemirror_mode": {
    "name": "ipython",
    "version": 2
   },
   "file_extension": ".py",
   "mimetype": "text/x-python",
   "name": "python",
   "nbconvert_exporter": "python",
   "pygments_lexer": "ipython2",
   "version": "2.7.6"
  }
 },
 "nbformat": 4,
 "nbformat_minor": 5
}
